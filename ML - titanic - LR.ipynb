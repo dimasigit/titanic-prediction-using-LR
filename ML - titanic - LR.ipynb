{
 "cells": [
  {
   "cell_type": "markdown",
   "id": "305e8852",
   "metadata": {},
   "source": [
    "# Case \n",
    "Kita ingin mengetahui apakah penumpang dengan independent variable Pclass, Age, Sex, SibSp, Parch Embarked dari dataset Titanic survive atau tidak. Detail variabel bebas :\n",
    "1. Pclass : tiket kelas\n",
    "2. Age : Umur\n",
    "3. Sex : Gender\n",
    "4. SibSp : Jumlah saudara\n",
    "5. Parch : Jumlah anak-anak\n",
    "6. Embarked : Pemberangkatan\n",
    "\n",
    "variabel terikatnya berarti Survived, karena kita ingin mengetahuinya."
   ]
  },
  {
   "cell_type": "markdown",
   "id": "7b64e97f",
   "metadata": {},
   "source": [
    "# Langkah-langkah penyelesaian"
   ]
  },
  {
   "cell_type": "markdown",
   "id": "f0d2085c",
   "metadata": {},
   "source": [
    "### Import Common Package"
   ]
  },
  {
   "cell_type": "code",
   "execution_count": 114,
   "id": "93860508",
   "metadata": {},
   "outputs": [],
   "source": [
    "import numpy as np\n",
    "import pandas as pd\n",
    "import matplotlib.pyplot as plt\n",
    "import seaborn as sns\n",
    "import warnings\n",
    "warnings.filterwarnings('ignore')"
   ]
  },
  {
   "cell_type": "code",
   "execution_count": 115,
   "id": "2e135ec6",
   "metadata": {},
   "outputs": [
    {
     "data": {
      "text/html": [
       "<div>\n",
       "<style scoped>\n",
       "    .dataframe tbody tr th:only-of-type {\n",
       "        vertical-align: middle;\n",
       "    }\n",
       "\n",
       "    .dataframe tbody tr th {\n",
       "        vertical-align: top;\n",
       "    }\n",
       "\n",
       "    .dataframe thead th {\n",
       "        text-align: right;\n",
       "    }\n",
       "</style>\n",
       "<table border=\"1\" class=\"dataframe\">\n",
       "  <thead>\n",
       "    <tr style=\"text-align: right;\">\n",
       "      <th></th>\n",
       "      <th>PassengerId</th>\n",
       "      <th>Survived</th>\n",
       "      <th>Pclass</th>\n",
       "      <th>Name</th>\n",
       "      <th>Sex</th>\n",
       "      <th>Age</th>\n",
       "      <th>SibSp</th>\n",
       "      <th>Parch</th>\n",
       "      <th>Ticket</th>\n",
       "      <th>Fare</th>\n",
       "      <th>...</th>\n",
       "      <th>Embarked</th>\n",
       "      <th>WikiId</th>\n",
       "      <th>Name_wiki</th>\n",
       "      <th>Age_wiki</th>\n",
       "      <th>Hometown</th>\n",
       "      <th>Boarded</th>\n",
       "      <th>Destination</th>\n",
       "      <th>Lifeboat</th>\n",
       "      <th>Body</th>\n",
       "      <th>Class</th>\n",
       "    </tr>\n",
       "  </thead>\n",
       "  <tbody>\n",
       "    <tr>\n",
       "      <th>0</th>\n",
       "      <td>1</td>\n",
       "      <td>0.0</td>\n",
       "      <td>3</td>\n",
       "      <td>Braund, Mr. Owen Harris</td>\n",
       "      <td>male</td>\n",
       "      <td>22.0</td>\n",
       "      <td>1</td>\n",
       "      <td>0</td>\n",
       "      <td>A/5 21171</td>\n",
       "      <td>7.2500</td>\n",
       "      <td>...</td>\n",
       "      <td>S</td>\n",
       "      <td>691.0</td>\n",
       "      <td>Braund, Mr. Owen Harris</td>\n",
       "      <td>22.0</td>\n",
       "      <td>Bridgerule, Devon, England</td>\n",
       "      <td>Southampton</td>\n",
       "      <td>Qu'Appelle Valley, Saskatchewan, Canada</td>\n",
       "      <td>NaN</td>\n",
       "      <td>NaN</td>\n",
       "      <td>3.0</td>\n",
       "    </tr>\n",
       "    <tr>\n",
       "      <th>1</th>\n",
       "      <td>2</td>\n",
       "      <td>1.0</td>\n",
       "      <td>1</td>\n",
       "      <td>Cumings, Mrs. John Bradley (Florence Briggs Th...</td>\n",
       "      <td>female</td>\n",
       "      <td>38.0</td>\n",
       "      <td>1</td>\n",
       "      <td>0</td>\n",
       "      <td>PC 17599</td>\n",
       "      <td>71.2833</td>\n",
       "      <td>...</td>\n",
       "      <td>C</td>\n",
       "      <td>90.0</td>\n",
       "      <td>Cumings, Mrs. Florence Briggs (née Thayer)</td>\n",
       "      <td>35.0</td>\n",
       "      <td>New York, New York, US</td>\n",
       "      <td>Cherbourg</td>\n",
       "      <td>New York, New York, US</td>\n",
       "      <td>4</td>\n",
       "      <td>NaN</td>\n",
       "      <td>1.0</td>\n",
       "    </tr>\n",
       "    <tr>\n",
       "      <th>2</th>\n",
       "      <td>3</td>\n",
       "      <td>1.0</td>\n",
       "      <td>3</td>\n",
       "      <td>Heikkinen, Miss. Laina</td>\n",
       "      <td>female</td>\n",
       "      <td>26.0</td>\n",
       "      <td>0</td>\n",
       "      <td>0</td>\n",
       "      <td>STON/O2. 3101282</td>\n",
       "      <td>7.9250</td>\n",
       "      <td>...</td>\n",
       "      <td>S</td>\n",
       "      <td>865.0</td>\n",
       "      <td>Heikkinen, Miss Laina</td>\n",
       "      <td>26.0</td>\n",
       "      <td>Jyväskylä, Finland</td>\n",
       "      <td>Southampton</td>\n",
       "      <td>New York City</td>\n",
       "      <td>14?</td>\n",
       "      <td>NaN</td>\n",
       "      <td>3.0</td>\n",
       "    </tr>\n",
       "    <tr>\n",
       "      <th>3</th>\n",
       "      <td>4</td>\n",
       "      <td>1.0</td>\n",
       "      <td>1</td>\n",
       "      <td>Futrelle, Mrs. Jacques Heath (Lily May Peel)</td>\n",
       "      <td>female</td>\n",
       "      <td>35.0</td>\n",
       "      <td>1</td>\n",
       "      <td>0</td>\n",
       "      <td>113803</td>\n",
       "      <td>53.1000</td>\n",
       "      <td>...</td>\n",
       "      <td>S</td>\n",
       "      <td>127.0</td>\n",
       "      <td>Futrelle, Mrs. Lily May (née Peel)</td>\n",
       "      <td>35.0</td>\n",
       "      <td>Scituate, Massachusetts, US</td>\n",
       "      <td>Southampton</td>\n",
       "      <td>Scituate, Massachusetts, US</td>\n",
       "      <td>D</td>\n",
       "      <td>NaN</td>\n",
       "      <td>1.0</td>\n",
       "    </tr>\n",
       "    <tr>\n",
       "      <th>4</th>\n",
       "      <td>5</td>\n",
       "      <td>0.0</td>\n",
       "      <td>3</td>\n",
       "      <td>Allen, Mr. William Henry</td>\n",
       "      <td>male</td>\n",
       "      <td>35.0</td>\n",
       "      <td>0</td>\n",
       "      <td>0</td>\n",
       "      <td>373450</td>\n",
       "      <td>8.0500</td>\n",
       "      <td>...</td>\n",
       "      <td>S</td>\n",
       "      <td>627.0</td>\n",
       "      <td>Allen, Mr. William Henry</td>\n",
       "      <td>35.0</td>\n",
       "      <td>Birmingham, West Midlands, England</td>\n",
       "      <td>Southampton</td>\n",
       "      <td>New York City</td>\n",
       "      <td>NaN</td>\n",
       "      <td>NaN</td>\n",
       "      <td>3.0</td>\n",
       "    </tr>\n",
       "  </tbody>\n",
       "</table>\n",
       "<p>5 rows × 21 columns</p>\n",
       "</div>"
      ],
      "text/plain": [
       "   PassengerId  Survived  Pclass  \\\n",
       "0            1       0.0       3   \n",
       "1            2       1.0       1   \n",
       "2            3       1.0       3   \n",
       "3            4       1.0       1   \n",
       "4            5       0.0       3   \n",
       "\n",
       "                                                Name     Sex   Age  SibSp  \\\n",
       "0                            Braund, Mr. Owen Harris    male  22.0      1   \n",
       "1  Cumings, Mrs. John Bradley (Florence Briggs Th...  female  38.0      1   \n",
       "2                             Heikkinen, Miss. Laina  female  26.0      0   \n",
       "3       Futrelle, Mrs. Jacques Heath (Lily May Peel)  female  35.0      1   \n",
       "4                           Allen, Mr. William Henry    male  35.0      0   \n",
       "\n",
       "   Parch            Ticket     Fare  ... Embarked WikiId  \\\n",
       "0      0         A/5 21171   7.2500  ...        S  691.0   \n",
       "1      0          PC 17599  71.2833  ...        C   90.0   \n",
       "2      0  STON/O2. 3101282   7.9250  ...        S  865.0   \n",
       "3      0            113803  53.1000  ...        S  127.0   \n",
       "4      0            373450   8.0500  ...        S  627.0   \n",
       "\n",
       "                                    Name_wiki Age_wiki  \\\n",
       "0                     Braund, Mr. Owen Harris     22.0   \n",
       "1  Cumings, Mrs. Florence Briggs (née Thayer)     35.0   \n",
       "2                       Heikkinen, Miss Laina     26.0   \n",
       "3          Futrelle, Mrs. Lily May (née Peel)     35.0   \n",
       "4                    Allen, Mr. William Henry     35.0   \n",
       "\n",
       "                             Hometown      Boarded  \\\n",
       "0          Bridgerule, Devon, England  Southampton   \n",
       "1              New York, New York, US    Cherbourg   \n",
       "2                  Jyväskylä, Finland  Southampton   \n",
       "3         Scituate, Massachusetts, US  Southampton   \n",
       "4  Birmingham, West Midlands, England  Southampton   \n",
       "\n",
       "                               Destination Lifeboat Body Class  \n",
       "0  Qu'Appelle Valley, Saskatchewan, Canada      NaN  NaN   3.0  \n",
       "1                   New York, New York, US        4  NaN   1.0  \n",
       "2                            New York City      14?  NaN   3.0  \n",
       "3              Scituate, Massachusetts, US        D  NaN   1.0  \n",
       "4                            New York City      NaN  NaN   3.0  \n",
       "\n",
       "[5 rows x 21 columns]"
      ]
     },
     "execution_count": 115,
     "metadata": {},
     "output_type": "execute_result"
    }
   ],
   "source": [
    "df = pd.read_csv('train.csv')\n",
    "df.head()"
   ]
  },
  {
   "cell_type": "markdown",
   "id": "86a2356a",
   "metadata": {},
   "source": [
    "### Data Exploration"
   ]
  },
  {
   "cell_type": "code",
   "execution_count": 116,
   "id": "a8e00c83",
   "metadata": {},
   "outputs": [
    {
     "name": "stdout",
     "output_type": "stream",
     "text": [
      "<class 'pandas.core.frame.DataFrame'>\n",
      "RangeIndex: 891 entries, 0 to 890\n",
      "Data columns (total 21 columns):\n",
      " #   Column       Non-Null Count  Dtype  \n",
      "---  ------       --------------  -----  \n",
      " 0   PassengerId  891 non-null    int64  \n",
      " 1   Survived     891 non-null    float64\n",
      " 2   Pclass       891 non-null    int64  \n",
      " 3   Name         891 non-null    object \n",
      " 4   Sex          891 non-null    object \n",
      " 5   Age          714 non-null    float64\n",
      " 6   SibSp        891 non-null    int64  \n",
      " 7   Parch        891 non-null    int64  \n",
      " 8   Ticket       891 non-null    object \n",
      " 9   Fare         891 non-null    float64\n",
      " 10  Cabin        204 non-null    object \n",
      " 11  Embarked     889 non-null    object \n",
      " 12  WikiId       889 non-null    float64\n",
      " 13  Name_wiki    889 non-null    object \n",
      " 14  Age_wiki     887 non-null    float64\n",
      " 15  Hometown     889 non-null    object \n",
      " 16  Boarded      889 non-null    object \n",
      " 17  Destination  889 non-null    object \n",
      " 18  Lifeboat     345 non-null    object \n",
      " 19  Body         87 non-null     object \n",
      " 20  Class        889 non-null    float64\n",
      "dtypes: float64(6), int64(4), object(11)\n",
      "memory usage: 146.3+ KB\n"
     ]
    }
   ],
   "source": [
    "df.info()"
   ]
  },
  {
   "cell_type": "markdown",
   "id": "1ef7f895",
   "metadata": {},
   "source": [
    "### Check Missing Value"
   ]
  },
  {
   "cell_type": "code",
   "execution_count": 117,
   "id": "778edd4e",
   "metadata": {},
   "outputs": [
    {
     "data": {
      "text/plain": [
       "PassengerId      0\n",
       "Survived         0\n",
       "Pclass           0\n",
       "Name             0\n",
       "Sex              0\n",
       "Age            177\n",
       "SibSp            0\n",
       "Parch            0\n",
       "Ticket           0\n",
       "Fare             0\n",
       "Cabin          687\n",
       "Embarked         2\n",
       "WikiId           2\n",
       "Name_wiki        2\n",
       "Age_wiki         4\n",
       "Hometown         2\n",
       "Boarded          2\n",
       "Destination      2\n",
       "Lifeboat       546\n",
       "Body           804\n",
       "Class            2\n",
       "dtype: int64"
      ]
     },
     "execution_count": 117,
     "metadata": {},
     "output_type": "execute_result"
    }
   ],
   "source": [
    "df.isna().sum()"
   ]
  },
  {
   "cell_type": "code",
   "execution_count": 118,
   "id": "b2351336",
   "metadata": {},
   "outputs": [
    {
     "data": {
      "image/png": "[encoded data removed]",
      "text/plain": [
       "<Figure size 864x720 with 1 Axes>"
      ]
     },
     "metadata": {
      "needs_background": "light"
     },
     "output_type": "display_data"
    }
   ],
   "source": [
    "plt.figure(figsize=(12, 10))\n",
    "sns.heatmap(df.isna(), cmap='coolwarm', cbar=False, yticklabels=False)\n",
    "plt.show() \n",
    "## mencari missing value menggunakan heatmap"
   ]
  },
  {
   "cell_type": "raw",
   "id": "4cccf3c1",
   "metadata": {},
   "source": [
    "Prediksi Pesawat Delay atau Tidak\n",
    "Kolom target ==> Delay ==> Yes - No\n",
    "\n",
    "Ada salah satu Features namanya\n",
    "Minutes Delay ==> Meskipun korelasi tinggi, harus didrop\n",
    "Karena ketika ada isinya... TARGET PASTI YES...\n",
    "\n",
    "-- Prediksi Karyawan akan Resign atau Stay\n",
    "Kolom Target ==> Attrition ==> Yes - No\n",
    "\n",
    "Ada beberapa kolom yang memiliki korelasi tinggi tapi harus didrop\n",
    "1. Termination Date ==> Tanggal keluar\n",
    "Mesipun korelasi tinggi tetap harus didrop, karena jika ada isinya, PASTI YES\n",
    "2. Termination Reason ==> Alasan Keluar\n",
    "Mesipun korelasi tinggi tetap harus didrop, karena jika ada isinya, PASTI YES"
   ]
  },
  {
   "cell_type": "markdown",
   "id": "be5955c5",
   "metadata": {},
   "source": [
    "### Pengecekan Imbalance (Distribusi data Target)\n",
    "==> Hanya untuk Klasifikasi"
   ]
  },
  {
   "cell_type": "code",
   "execution_count": 119,
   "id": "ba3e4787",
   "metadata": {},
   "outputs": [
    {
     "data": {
      "text/plain": [
       "0.0    549\n",
       "1.0    342\n",
       "Name: Survived, dtype: int64"
      ]
     },
     "execution_count": 119,
     "metadata": {},
     "output_type": "execute_result"
    }
   ],
   "source": [
    "df['Survived'].value_counts()\n",
    "\n",
    "# 0 -> mokat\n",
    "# 1 -> selamat"
   ]
  },
  {
   "cell_type": "code",
   "execution_count": 120,
   "id": "dfe0398f",
   "metadata": {},
   "outputs": [
    {
     "data": {
      "text/html": [
       "<div>\n",
       "<style scoped>\n",
       "    .dataframe tbody tr th:only-of-type {\n",
       "        vertical-align: middle;\n",
       "    }\n",
       "\n",
       "    .dataframe tbody tr th {\n",
       "        vertical-align: top;\n",
       "    }\n",
       "\n",
       "    .dataframe thead th {\n",
       "        text-align: right;\n",
       "    }\n",
       "</style>\n",
       "<table border=\"1\" class=\"dataframe\">\n",
       "  <thead>\n",
       "    <tr style=\"text-align: right;\">\n",
       "      <th>col_0</th>\n",
       "      <th>count</th>\n",
       "    </tr>\n",
       "    <tr>\n",
       "      <th>Survived</th>\n",
       "      <th></th>\n",
       "    </tr>\n",
       "  </thead>\n",
       "  <tbody>\n",
       "    <tr>\n",
       "      <th>0.0</th>\n",
       "      <td>61.616162</td>\n",
       "    </tr>\n",
       "    <tr>\n",
       "      <th>1.0</th>\n",
       "      <td>38.383838</td>\n",
       "    </tr>\n",
       "  </tbody>\n",
       "</table>\n",
       "</div>"
      ],
      "text/plain": [
       "col_0         count\n",
       "Survived           \n",
       "0.0       61.616162\n",
       "1.0       38.383838"
      ]
     },
     "execution_count": 120,
     "metadata": {},
     "output_type": "execute_result"
    }
   ],
   "source": [
    "pd.crosstab(df['Survived'], columns='count', normalize=True)*100"
   ]
  },
  {
   "cell_type": "raw",
   "id": "b8681ab3",
   "metadata": {},
   "source": [
    "Jika perbandingan target di atas 75% (salah satu) ==> Data Imbalanced\n",
    "Data Imbalance ==> Detector\n",
    "Detector ==> Kita ingin mencari Target - Label tertentu"
   ]
  },
  {
   "cell_type": "code",
   "execution_count": 121,
   "id": "95dff15c",
   "metadata": {},
   "outputs": [
    {
     "data": {
      "text/html": [
       "<div>\n",
       "<style scoped>\n",
       "    .dataframe tbody tr th:only-of-type {\n",
       "        vertical-align: middle;\n",
       "    }\n",
       "\n",
       "    .dataframe tbody tr th {\n",
       "        vertical-align: top;\n",
       "    }\n",
       "\n",
       "    .dataframe thead th {\n",
       "        text-align: right;\n",
       "    }\n",
       "</style>\n",
       "<table border=\"1\" class=\"dataframe\">\n",
       "  <thead>\n",
       "    <tr style=\"text-align: right;\">\n",
       "      <th></th>\n",
       "      <th>count</th>\n",
       "      <th>mean</th>\n",
       "      <th>std</th>\n",
       "      <th>min</th>\n",
       "      <th>25%</th>\n",
       "      <th>50%</th>\n",
       "      <th>75%</th>\n",
       "      <th>max</th>\n",
       "    </tr>\n",
       "  </thead>\n",
       "  <tbody>\n",
       "    <tr>\n",
       "      <th>PassengerId</th>\n",
       "      <td>891.0</td>\n",
       "      <td>446.000000</td>\n",
       "      <td>257.353842</td>\n",
       "      <td>1.00</td>\n",
       "      <td>223.5000</td>\n",
       "      <td>446.0000</td>\n",
       "      <td>668.5</td>\n",
       "      <td>891.0000</td>\n",
       "    </tr>\n",
       "    <tr>\n",
       "      <th>Survived</th>\n",
       "      <td>891.0</td>\n",
       "      <td>0.383838</td>\n",
       "      <td>0.486592</td>\n",
       "      <td>0.00</td>\n",
       "      <td>0.0000</td>\n",
       "      <td>0.0000</td>\n",
       "      <td>1.0</td>\n",
       "      <td>1.0000</td>\n",
       "    </tr>\n",
       "    <tr>\n",
       "      <th>Pclass</th>\n",
       "      <td>891.0</td>\n",
       "      <td>2.308642</td>\n",
       "      <td>0.836071</td>\n",
       "      <td>1.00</td>\n",
       "      <td>2.0000</td>\n",
       "      <td>3.0000</td>\n",
       "      <td>3.0</td>\n",
       "      <td>3.0000</td>\n",
       "    </tr>\n",
       "    <tr>\n",
       "      <th>Age</th>\n",
       "      <td>714.0</td>\n",
       "      <td>29.699118</td>\n",
       "      <td>14.526497</td>\n",
       "      <td>0.42</td>\n",
       "      <td>20.1250</td>\n",
       "      <td>28.0000</td>\n",
       "      <td>38.0</td>\n",
       "      <td>80.0000</td>\n",
       "    </tr>\n",
       "    <tr>\n",
       "      <th>SibSp</th>\n",
       "      <td>891.0</td>\n",
       "      <td>0.523008</td>\n",
       "      <td>1.102743</td>\n",
       "      <td>0.00</td>\n",
       "      <td>0.0000</td>\n",
       "      <td>0.0000</td>\n",
       "      <td>1.0</td>\n",
       "      <td>8.0000</td>\n",
       "    </tr>\n",
       "    <tr>\n",
       "      <th>Parch</th>\n",
       "      <td>891.0</td>\n",
       "      <td>0.381594</td>\n",
       "      <td>0.806057</td>\n",
       "      <td>0.00</td>\n",
       "      <td>0.0000</td>\n",
       "      <td>0.0000</td>\n",
       "      <td>0.0</td>\n",
       "      <td>6.0000</td>\n",
       "    </tr>\n",
       "    <tr>\n",
       "      <th>Fare</th>\n",
       "      <td>891.0</td>\n",
       "      <td>32.204208</td>\n",
       "      <td>49.693429</td>\n",
       "      <td>0.00</td>\n",
       "      <td>7.9104</td>\n",
       "      <td>14.4542</td>\n",
       "      <td>31.0</td>\n",
       "      <td>512.3292</td>\n",
       "    </tr>\n",
       "    <tr>\n",
       "      <th>WikiId</th>\n",
       "      <td>889.0</td>\n",
       "      <td>665.466817</td>\n",
       "      <td>380.796997</td>\n",
       "      <td>1.00</td>\n",
       "      <td>336.0000</td>\n",
       "      <td>672.0000</td>\n",
       "      <td>996.0</td>\n",
       "      <td>1314.0000</td>\n",
       "    </tr>\n",
       "    <tr>\n",
       "      <th>Age_wiki</th>\n",
       "      <td>887.0</td>\n",
       "      <td>29.322063</td>\n",
       "      <td>13.930089</td>\n",
       "      <td>0.42</td>\n",
       "      <td>20.0000</td>\n",
       "      <td>28.0000</td>\n",
       "      <td>38.0</td>\n",
       "      <td>74.0000</td>\n",
       "    </tr>\n",
       "    <tr>\n",
       "      <th>Class</th>\n",
       "      <td>889.0</td>\n",
       "      <td>2.307087</td>\n",
       "      <td>0.837713</td>\n",
       "      <td>1.00</td>\n",
       "      <td>2.0000</td>\n",
       "      <td>3.0000</td>\n",
       "      <td>3.0</td>\n",
       "      <td>3.0000</td>\n",
       "    </tr>\n",
       "  </tbody>\n",
       "</table>\n",
       "</div>"
      ],
      "text/plain": [
       "             count        mean         std   min       25%       50%    75%  \\\n",
       "PassengerId  891.0  446.000000  257.353842  1.00  223.5000  446.0000  668.5   \n",
       "Survived     891.0    0.383838    0.486592  0.00    0.0000    0.0000    1.0   \n",
       "Pclass       891.0    2.308642    0.836071  1.00    2.0000    3.0000    3.0   \n",
       "Age          714.0   29.699118   14.526497  0.42   20.1250   28.0000   38.0   \n",
       "SibSp        891.0    0.523008    1.102743  0.00    0.0000    0.0000    1.0   \n",
       "Parch        891.0    0.381594    0.806057  0.00    0.0000    0.0000    0.0   \n",
       "Fare         891.0   32.204208   49.693429  0.00    7.9104   14.4542   31.0   \n",
       "WikiId       889.0  665.466817  380.796997  1.00  336.0000  672.0000  996.0   \n",
       "Age_wiki     887.0   29.322063   13.930089  0.42   20.0000   28.0000   38.0   \n",
       "Class        889.0    2.307087    0.837713  1.00    2.0000    3.0000    3.0   \n",
       "\n",
       "                   max  \n",
       "PassengerId   891.0000  \n",
       "Survived        1.0000  \n",
       "Pclass          3.0000  \n",
       "Age            80.0000  \n",
       "SibSp           8.0000  \n",
       "Parch           6.0000  \n",
       "Fare          512.3292  \n",
       "WikiId       1314.0000  \n",
       "Age_wiki       74.0000  \n",
       "Class           3.0000  "
      ]
     },
     "execution_count": 121,
     "metadata": {},
     "output_type": "execute_result"
    }
   ],
   "source": [
    "df.describe().T"
   ]
  },
  {
   "cell_type": "code",
   "execution_count": 122,
   "id": "475f380b",
   "metadata": {},
   "outputs": [
    {
     "data": {
      "text/html": [
       "<div>\n",
       "<style scoped>\n",
       "    .dataframe tbody tr th:only-of-type {\n",
       "        vertical-align: middle;\n",
       "    }\n",
       "\n",
       "    .dataframe tbody tr th {\n",
       "        vertical-align: top;\n",
       "    }\n",
       "\n",
       "    .dataframe thead th {\n",
       "        text-align: right;\n",
       "    }\n",
       "</style>\n",
       "<table border=\"1\" class=\"dataframe\">\n",
       "  <thead>\n",
       "    <tr style=\"text-align: right;\">\n",
       "      <th></th>\n",
       "      <th>Name</th>\n",
       "      <th>Sex</th>\n",
       "      <th>Ticket</th>\n",
       "      <th>Cabin</th>\n",
       "      <th>Embarked</th>\n",
       "      <th>Name_wiki</th>\n",
       "      <th>Hometown</th>\n",
       "      <th>Boarded</th>\n",
       "      <th>Destination</th>\n",
       "      <th>Lifeboat</th>\n",
       "      <th>Body</th>\n",
       "    </tr>\n",
       "  </thead>\n",
       "  <tbody>\n",
       "    <tr>\n",
       "      <th>count</th>\n",
       "      <td>891</td>\n",
       "      <td>891</td>\n",
       "      <td>891</td>\n",
       "      <td>204</td>\n",
       "      <td>889</td>\n",
       "      <td>889</td>\n",
       "      <td>889</td>\n",
       "      <td>889</td>\n",
       "      <td>889</td>\n",
       "      <td>345</td>\n",
       "      <td>87</td>\n",
       "    </tr>\n",
       "    <tr>\n",
       "      <th>unique</th>\n",
       "      <td>891</td>\n",
       "      <td>2</td>\n",
       "      <td>681</td>\n",
       "      <td>147</td>\n",
       "      <td>3</td>\n",
       "      <td>889</td>\n",
       "      <td>437</td>\n",
       "      <td>4</td>\n",
       "      <td>234</td>\n",
       "      <td>22</td>\n",
       "      <td>87</td>\n",
       "    </tr>\n",
       "    <tr>\n",
       "      <th>top</th>\n",
       "      <td>Braund, Mr. Owen Harris</td>\n",
       "      <td>male</td>\n",
       "      <td>347082</td>\n",
       "      <td>B96 B98</td>\n",
       "      <td>S</td>\n",
       "      <td>Braund, Mr. Owen Harris</td>\n",
       "      <td>New York, New York, US</td>\n",
       "      <td>Southampton</td>\n",
       "      <td>New York City</td>\n",
       "      <td>15</td>\n",
       "      <td>175MB</td>\n",
       "    </tr>\n",
       "    <tr>\n",
       "      <th>freq</th>\n",
       "      <td>1</td>\n",
       "      <td>577</td>\n",
       "      <td>7</td>\n",
       "      <td>4</td>\n",
       "      <td>644</td>\n",
       "      <td>1</td>\n",
       "      <td>50</td>\n",
       "      <td>638</td>\n",
       "      <td>168</td>\n",
       "      <td>28</td>\n",
       "      <td>1</td>\n",
       "    </tr>\n",
       "  </tbody>\n",
       "</table>\n",
       "</div>"
      ],
      "text/plain": [
       "                           Name   Sex  Ticket    Cabin Embarked  \\\n",
       "count                       891   891     891      204      889   \n",
       "unique                      891     2     681      147        3   \n",
       "top     Braund, Mr. Owen Harris  male  347082  B96 B98        S   \n",
       "freq                          1   577       7        4      644   \n",
       "\n",
       "                      Name_wiki                Hometown      Boarded  \\\n",
       "count                       889                     889          889   \n",
       "unique                      889                     437            4   \n",
       "top     Braund, Mr. Owen Harris  New York, New York, US  Southampton   \n",
       "freq                          1                      50          638   \n",
       "\n",
       "          Destination Lifeboat   Body  \n",
       "count             889      345     87  \n",
       "unique            234       22     87  \n",
       "top     New York City       15  175MB  \n",
       "freq              168       28      1  "
      ]
     },
     "execution_count": 122,
     "metadata": {},
     "output_type": "execute_result"
    }
   ],
   "source": [
    "df.describe(include='O')"
   ]
  },
  {
   "cell_type": "code",
   "execution_count": 123,
   "id": "400d9bca",
   "metadata": {},
   "outputs": [],
   "source": [
    "titanicDesc = []\n",
    "\n",
    "for i in df.columns:\n",
    "    titanicDesc.append([\n",
    "        i,\n",
    "        df[i].dtypes,\n",
    "        df[i].isna().sum(),\n",
    "        round((df[i].isna().sum() / len(df)) * 100, 2),\n",
    "        df[i].nunique(),\n",
    "        df[i].drop_duplicates().sample(2).values\n",
    "    ])"
   ]
  },
  {
   "cell_type": "code",
   "execution_count": 124,
   "id": "f27bc888",
   "metadata": {},
   "outputs": [
    {
     "data": {
      "text/html": [
       "<div>\n",
       "<style scoped>\n",
       "    .dataframe tbody tr th:only-of-type {\n",
       "        vertical-align: middle;\n",
       "    }\n",
       "\n",
       "    .dataframe tbody tr th {\n",
       "        vertical-align: top;\n",
       "    }\n",
       "\n",
       "    .dataframe thead th {\n",
       "        text-align: right;\n",
       "    }\n",
       "</style>\n",
       "<table border=\"1\" class=\"dataframe\">\n",
       "  <thead>\n",
       "    <tr style=\"text-align: right;\">\n",
       "      <th></th>\n",
       "      <th>Features</th>\n",
       "      <th>DataType</th>\n",
       "      <th>Null</th>\n",
       "      <th>NullPercentage</th>\n",
       "      <th>Unique</th>\n",
       "      <th>UniqueSample</th>\n",
       "    </tr>\n",
       "  </thead>\n",
       "  <tbody>\n",
       "    <tr>\n",
       "      <th>0</th>\n",
       "      <td>PassengerId</td>\n",
       "      <td>int64</td>\n",
       "      <td>0</td>\n",
       "      <td>0.00</td>\n",
       "      <td>891</td>\n",
       "      <td>[179, 116]</td>\n",
       "    </tr>\n",
       "    <tr>\n",
       "      <th>1</th>\n",
       "      <td>Survived</td>\n",
       "      <td>float64</td>\n",
       "      <td>0</td>\n",
       "      <td>0.00</td>\n",
       "      <td>2</td>\n",
       "      <td>[1.0, 0.0]</td>\n",
       "    </tr>\n",
       "    <tr>\n",
       "      <th>2</th>\n",
       "      <td>Pclass</td>\n",
       "      <td>int64</td>\n",
       "      <td>0</td>\n",
       "      <td>0.00</td>\n",
       "      <td>3</td>\n",
       "      <td>[2, 3]</td>\n",
       "    </tr>\n",
       "    <tr>\n",
       "      <th>3</th>\n",
       "      <td>Name</td>\n",
       "      <td>object</td>\n",
       "      <td>0</td>\n",
       "      <td>0.00</td>\n",
       "      <td>891</td>\n",
       "      <td>[Jensen, Mr. Niels Peder, Christy, Miss. Julie...</td>\n",
       "    </tr>\n",
       "    <tr>\n",
       "      <th>4</th>\n",
       "      <td>Sex</td>\n",
       "      <td>object</td>\n",
       "      <td>0</td>\n",
       "      <td>0.00</td>\n",
       "      <td>2</td>\n",
       "      <td>[female, male]</td>\n",
       "    </tr>\n",
       "    <tr>\n",
       "      <th>5</th>\n",
       "      <td>Age</td>\n",
       "      <td>float64</td>\n",
       "      <td>177</td>\n",
       "      <td>19.87</td>\n",
       "      <td>88</td>\n",
       "      <td>[14.5, 45.0]</td>\n",
       "    </tr>\n",
       "    <tr>\n",
       "      <th>6</th>\n",
       "      <td>SibSp</td>\n",
       "      <td>int64</td>\n",
       "      <td>0</td>\n",
       "      <td>0.00</td>\n",
       "      <td>7</td>\n",
       "      <td>[3, 4]</td>\n",
       "    </tr>\n",
       "    <tr>\n",
       "      <th>7</th>\n",
       "      <td>Parch</td>\n",
       "      <td>int64</td>\n",
       "      <td>0</td>\n",
       "      <td>0.00</td>\n",
       "      <td>7</td>\n",
       "      <td>[1, 2]</td>\n",
       "    </tr>\n",
       "    <tr>\n",
       "      <th>8</th>\n",
       "      <td>Ticket</td>\n",
       "      <td>object</td>\n",
       "      <td>0</td>\n",
       "      <td>0.00</td>\n",
       "      <td>681</td>\n",
       "      <td>[SOTON/OQ 392090, 2631]</td>\n",
       "    </tr>\n",
       "    <tr>\n",
       "      <th>9</th>\n",
       "      <td>Fare</td>\n",
       "      <td>float64</td>\n",
       "      <td>0</td>\n",
       "      <td>0.00</td>\n",
       "      <td>248</td>\n",
       "      <td>[81.8583, 7.1417]</td>\n",
       "    </tr>\n",
       "    <tr>\n",
       "      <th>10</th>\n",
       "      <td>Cabin</td>\n",
       "      <td>object</td>\n",
       "      <td>687</td>\n",
       "      <td>77.10</td>\n",
       "      <td>147</td>\n",
       "      <td>[C110, E24]</td>\n",
       "    </tr>\n",
       "    <tr>\n",
       "      <th>11</th>\n",
       "      <td>Embarked</td>\n",
       "      <td>object</td>\n",
       "      <td>2</td>\n",
       "      <td>0.22</td>\n",
       "      <td>3</td>\n",
       "      <td>[C, S]</td>\n",
       "    </tr>\n",
       "    <tr>\n",
       "      <th>12</th>\n",
       "      <td>WikiId</td>\n",
       "      <td>float64</td>\n",
       "      <td>2</td>\n",
       "      <td>0.22</td>\n",
       "      <td>889</td>\n",
       "      <td>[491.0, 421.0]</td>\n",
       "    </tr>\n",
       "    <tr>\n",
       "      <th>13</th>\n",
       "      <td>Name_wiki</td>\n",
       "      <td>object</td>\n",
       "      <td>2</td>\n",
       "      <td>0.22</td>\n",
       "      <td>889</td>\n",
       "      <td>[Sirkanian, Mr. Arsun, Chang, Mr. Chip]</td>\n",
       "    </tr>\n",
       "    <tr>\n",
       "      <th>14</th>\n",
       "      <td>Age_wiki</td>\n",
       "      <td>float64</td>\n",
       "      <td>4</td>\n",
       "      <td>0.45</td>\n",
       "      <td>74</td>\n",
       "      <td>[71.0, 58.0]</td>\n",
       "    </tr>\n",
       "    <tr>\n",
       "      <th>15</th>\n",
       "      <td>Hometown</td>\n",
       "      <td>object</td>\n",
       "      <td>2</td>\n",
       "      <td>0.22</td>\n",
       "      <td>437</td>\n",
       "      <td>[Portage la Prairie, Manitoba, Canada, Stoneyg...</td>\n",
       "    </tr>\n",
       "    <tr>\n",
       "      <th>16</th>\n",
       "      <td>Boarded</td>\n",
       "      <td>object</td>\n",
       "      <td>2</td>\n",
       "      <td>0.22</td>\n",
       "      <td>4</td>\n",
       "      <td>[nan, Southampton]</td>\n",
       "    </tr>\n",
       "    <tr>\n",
       "      <th>17</th>\n",
       "      <td>Destination</td>\n",
       "      <td>object</td>\n",
       "      <td>2</td>\n",
       "      <td>0.22</td>\n",
       "      <td>234</td>\n",
       "      <td>[Fingal, North Dakota, US, Providence, Rhode I...</td>\n",
       "    </tr>\n",
       "    <tr>\n",
       "      <th>18</th>\n",
       "      <td>Lifeboat</td>\n",
       "      <td>object</td>\n",
       "      <td>546</td>\n",
       "      <td>61.28</td>\n",
       "      <td>22</td>\n",
       "      <td>[14?, 2]</td>\n",
       "    </tr>\n",
       "    <tr>\n",
       "      <th>19</th>\n",
       "      <td>Body</td>\n",
       "      <td>object</td>\n",
       "      <td>804</td>\n",
       "      <td>90.24</td>\n",
       "      <td>87</td>\n",
       "      <td>[52MB, 332O]</td>\n",
       "    </tr>\n",
       "    <tr>\n",
       "      <th>20</th>\n",
       "      <td>Class</td>\n",
       "      <td>float64</td>\n",
       "      <td>2</td>\n",
       "      <td>0.22</td>\n",
       "      <td>3</td>\n",
       "      <td>[nan, 1.0]</td>\n",
       "    </tr>\n",
       "  </tbody>\n",
       "</table>\n",
       "</div>"
      ],
      "text/plain": [
       "       Features DataType  Null  NullPercentage  Unique  \\\n",
       "0   PassengerId    int64     0            0.00     891   \n",
       "1      Survived  float64     0            0.00       2   \n",
       "2        Pclass    int64     0            0.00       3   \n",
       "3          Name   object     0            0.00     891   \n",
       "4           Sex   object     0            0.00       2   \n",
       "5           Age  float64   177           19.87      88   \n",
       "6         SibSp    int64     0            0.00       7   \n",
       "7         Parch    int64     0            0.00       7   \n",
       "8        Ticket   object     0            0.00     681   \n",
       "9          Fare  float64     0            0.00     248   \n",
       "10        Cabin   object   687           77.10     147   \n",
       "11     Embarked   object     2            0.22       3   \n",
       "12       WikiId  float64     2            0.22     889   \n",
       "13    Name_wiki   object     2            0.22     889   \n",
       "14     Age_wiki  float64     4            0.45      74   \n",
       "15     Hometown   object     2            0.22     437   \n",
       "16      Boarded   object     2            0.22       4   \n",
       "17  Destination   object     2            0.22     234   \n",
       "18     Lifeboat   object   546           61.28      22   \n",
       "19         Body   object   804           90.24      87   \n",
       "20        Class  float64     2            0.22       3   \n",
       "\n",
       "                                         UniqueSample  \n",
       "0                                          [179, 116]  \n",
       "1                                          [1.0, 0.0]  \n",
       "2                                              [2, 3]  \n",
       "3   [Jensen, Mr. Niels Peder, Christy, Miss. Julie...  \n",
       "4                                      [female, male]  \n",
       "5                                        [14.5, 45.0]  \n",
       "6                                              [3, 4]  \n",
       "7                                              [1, 2]  \n",
       "8                             [SOTON/OQ 392090, 2631]  \n",
       "9                                   [81.8583, 7.1417]  \n",
       "10                                        [C110, E24]  \n",
       "11                                             [C, S]  \n",
       "12                                     [491.0, 421.0]  \n",
       "13            [Sirkanian, Mr. Arsun, Chang, Mr. Chip]  \n",
       "14                                       [71.0, 58.0]  \n",
       "15  [Portage la Prairie, Manitoba, Canada, Stoneyg...  \n",
       "16                                 [nan, Southampton]  \n",
       "17  [Fingal, North Dakota, US, Providence, Rhode I...  \n",
       "18                                           [14?, 2]  \n",
       "19                                       [52MB, 332O]  \n",
       "20                                         [nan, 1.0]  "
      ]
     },
     "execution_count": 124,
     "metadata": {},
     "output_type": "execute_result"
    }
   ],
   "source": [
    "pd.DataFrame(data = titanicDesc,\n",
    "            columns=[\n",
    "                'Features',\n",
    "                'DataType',\n",
    "                'Null',\n",
    "                'NullPercentage',\n",
    "                'Unique',\n",
    "                'UniqueSample'\n",
    "            ])"
   ]
  },
  {
   "cell_type": "markdown",
   "id": "e3755233",
   "metadata": {},
   "source": [
    "# Quick EDA\n",
    "- Digunakan untuk melakukan Feature Selection - Pemilihan Feature"
   ]
  },
  {
   "cell_type": "markdown",
   "id": "a382bf80",
   "metadata": {},
   "source": [
    "### Domain - Knowledge\n",
    "- Melakukan Feature selection berdasarkan domain Knowledge"
   ]
  },
  {
   "cell_type": "code",
   "execution_count": 125,
   "id": "df6570a7",
   "metadata": {},
   "outputs": [],
   "source": [
    "df.drop(columns=['Body', 'Lifeboat'], inplace = True)\n",
    "## Kita drop karena kolom ini memiliki pengaruh yang terlalu pasti/obvious terhadap target"
   ]
  },
  {
   "cell_type": "code",
   "execution_count": 126,
   "id": "da886b8f",
   "metadata": {},
   "outputs": [],
   "source": [
    "## capstone module 3 harus bikin reason kaya gini nih buat kasitau gunanya buat apa"
   ]
  },
  {
   "cell_type": "code",
   "execution_count": 127,
   "id": "8024361e",
   "metadata": {},
   "outputs": [],
   "source": [
    "df.drop(columns=['Cabin', 'Class'], inplace = True)\n",
    "## Kita drop karena kolom ini memiliki fungsi dan informasi yang sama dengan kolom Pclass\n",
    "## Kita memilih menggunakan Pclass karena tidak terdapat Missing Value di kolom Pclass"
   ]
  },
  {
   "cell_type": "code",
   "execution_count": 128,
   "id": "6b70d0ba",
   "metadata": {},
   "outputs": [],
   "source": [
    "## Feature Selection menggunakan EDA"
   ]
  },
  {
   "cell_type": "markdown",
   "id": "8bb52b62",
   "metadata": {},
   "source": [
    "### Buat Hipotesa Awal\n",
    "- Pclass berpengaruh terhadap Survival Rates\n",
    "- Sex - Gender berpengaruh terhadap survival rates\n",
    "- Age/Usia berpengaruh terhadap survival rates\n",
    "- SibSp (Sibling - Spouse) Berpengaruh terhadap Survival Rates\n",
    "- Parch (Parent - Children) Berpengaruh terhadap Survival Rates\n",
    "- Embarked - Boarded berpengaruh terhadap Survival Rates"
   ]
  },
  {
   "cell_type": "markdown",
   "id": "8fd4d2af",
   "metadata": {},
   "source": [
    "### Cek Pclass"
   ]
  },
  {
   "cell_type": "code",
   "execution_count": 129,
   "id": "e42244ce",
   "metadata": {},
   "outputs": [
    {
     "data": {
      "text/html": [
       "<div>\n",
       "<style scoped>\n",
       "    .dataframe tbody tr th:only-of-type {\n",
       "        vertical-align: middle;\n",
       "    }\n",
       "\n",
       "    .dataframe tbody tr th {\n",
       "        vertical-align: top;\n",
       "    }\n",
       "\n",
       "    .dataframe thead th {\n",
       "        text-align: right;\n",
       "    }\n",
       "</style>\n",
       "<table border=\"1\" class=\"dataframe\">\n",
       "  <thead>\n",
       "    <tr style=\"text-align: right;\">\n",
       "      <th></th>\n",
       "      <th>Survived</th>\n",
       "    </tr>\n",
       "    <tr>\n",
       "      <th>Pclass</th>\n",
       "      <th></th>\n",
       "    </tr>\n",
       "  </thead>\n",
       "  <tbody>\n",
       "    <tr>\n",
       "      <th>1</th>\n",
       "      <td>216</td>\n",
       "    </tr>\n",
       "    <tr>\n",
       "      <th>2</th>\n",
       "      <td>184</td>\n",
       "    </tr>\n",
       "    <tr>\n",
       "      <th>3</th>\n",
       "      <td>491</td>\n",
       "    </tr>\n",
       "  </tbody>\n",
       "</table>\n",
       "</div>"
      ],
      "text/plain": [
       "        Survived\n",
       "Pclass          \n",
       "1            216\n",
       "2            184\n",
       "3            491"
      ]
     },
     "execution_count": 129,
     "metadata": {},
     "output_type": "execute_result"
    }
   ],
   "source": [
    "df[['Pclass', 'Survived']].groupby('Pclass').count()"
   ]
  },
  {
   "cell_type": "code",
   "execution_count": 130,
   "id": "6e33fae3",
   "metadata": {},
   "outputs": [
    {
     "data": {
      "text/html": [
       "<div>\n",
       "<style scoped>\n",
       "    .dataframe tbody tr th:only-of-type {\n",
       "        vertical-align: middle;\n",
       "    }\n",
       "\n",
       "    .dataframe tbody tr th {\n",
       "        vertical-align: top;\n",
       "    }\n",
       "\n",
       "    .dataframe thead th {\n",
       "        text-align: right;\n",
       "    }\n",
       "</style>\n",
       "<table border=\"1\" class=\"dataframe\">\n",
       "  <thead>\n",
       "    <tr style=\"text-align: right;\">\n",
       "      <th></th>\n",
       "      <th>Survived</th>\n",
       "    </tr>\n",
       "    <tr>\n",
       "      <th>Pclass</th>\n",
       "      <th></th>\n",
       "    </tr>\n",
       "  </thead>\n",
       "  <tbody>\n",
       "    <tr>\n",
       "      <th>1</th>\n",
       "      <td>62.96</td>\n",
       "    </tr>\n",
       "    <tr>\n",
       "      <th>2</th>\n",
       "      <td>47.28</td>\n",
       "    </tr>\n",
       "    <tr>\n",
       "      <th>3</th>\n",
       "      <td>24.24</td>\n",
       "    </tr>\n",
       "  </tbody>\n",
       "</table>\n",
       "</div>"
      ],
      "text/plain": [
       "        Survived\n",
       "Pclass          \n",
       "1          62.96\n",
       "2          47.28\n",
       "3          24.24"
      ]
     },
     "execution_count": 130,
     "metadata": {},
     "output_type": "execute_result"
    }
   ],
   "source": [
    "(df[['Pclass', 'Survived']].groupby('Pclass').mean()*100).round(2)"
   ]
  },
  {
   "cell_type": "code",
   "execution_count": 131,
   "id": "57bd6fe3",
   "metadata": {},
   "outputs": [],
   "source": [
    "## kenapa pake mean soalnya survived itu tipenya 0-1"
   ]
  },
  {
   "cell_type": "markdown",
   "id": "4f5d59de",
   "metadata": {},
   "source": [
    "- Pclass 1 memiliki Survival Rates paling tinggi => 62.96%\n",
    "- Pclass berpengaruh terhadap Survival Rates"
   ]
  },
  {
   "cell_type": "markdown",
   "id": "7b0eca67",
   "metadata": {},
   "source": [
    "### Cek Sex"
   ]
  },
  {
   "cell_type": "code",
   "execution_count": 132,
   "id": "c72dd46e",
   "metadata": {},
   "outputs": [
    {
     "data": {
      "text/html": [
       "<div>\n",
       "<style scoped>\n",
       "    .dataframe tbody tr th:only-of-type {\n",
       "        vertical-align: middle;\n",
       "    }\n",
       "\n",
       "    .dataframe tbody tr th {\n",
       "        vertical-align: top;\n",
       "    }\n",
       "\n",
       "    .dataframe thead th {\n",
       "        text-align: right;\n",
       "    }\n",
       "</style>\n",
       "<table border=\"1\" class=\"dataframe\">\n",
       "  <thead>\n",
       "    <tr style=\"text-align: right;\">\n",
       "      <th></th>\n",
       "      <th>Survived</th>\n",
       "    </tr>\n",
       "    <tr>\n",
       "      <th>Sex</th>\n",
       "      <th></th>\n",
       "    </tr>\n",
       "  </thead>\n",
       "  <tbody>\n",
       "    <tr>\n",
       "      <th>female</th>\n",
       "      <td>74.203822</td>\n",
       "    </tr>\n",
       "    <tr>\n",
       "      <th>male</th>\n",
       "      <td>18.890815</td>\n",
       "    </tr>\n",
       "  </tbody>\n",
       "</table>\n",
       "</div>"
      ],
      "text/plain": [
       "         Survived\n",
       "Sex              \n",
       "female  74.203822\n",
       "male    18.890815"
      ]
     },
     "execution_count": 132,
     "metadata": {},
     "output_type": "execute_result"
    }
   ],
   "source": [
    "df[['Sex', 'Survived']].groupby('Sex').mean()*100"
   ]
  },
  {
   "cell_type": "markdown",
   "id": "788c5b5c",
   "metadata": {},
   "source": [
    "- Sex - Female memiliki survival rates lebih tinggi => 74.2\n",
    "- Sex berpengatuh terhadap survival rates"
   ]
  },
  {
   "cell_type": "markdown",
   "id": "3931e9ef",
   "metadata": {},
   "source": [
    "### Cek Age/Usia"
   ]
  },
  {
   "cell_type": "markdown",
   "id": "a7e6c213",
   "metadata": {},
   "source": [
    "- Melakukan Binning terhadap Age_Wiki (Usia) agar lebih mudah dianalisa"
   ]
  },
  {
   "cell_type": "code",
   "execution_count": 133,
   "id": "74d954fb",
   "metadata": {},
   "outputs": [],
   "source": [
    "## Handling Missing Value - Fill Missing Value menggunakan rata-rata\n",
    "df['Age_wiki'] = df['Age_wiki'].fillna(df['Age_wiki'].mean())"
   ]
  },
  {
   "cell_type": "code",
   "execution_count": 134,
   "id": "ab09aef4",
   "metadata": {},
   "outputs": [],
   "source": [
    "age_bin = [0, 10, 20, 40, df['Age_wiki'].max()] \n",
    "## membuat kelompok usia"
   ]
  },
  {
   "cell_type": "code",
   "execution_count": 135,
   "id": "8041ebc7",
   "metadata": {},
   "outputs": [],
   "source": [
    "labels = ['Kids', 'Teenager', 'Adult', 'Old'] \n",
    "## Membuat label untuk kelompok usia"
   ]
  },
  {
   "cell_type": "code",
   "execution_count": 136,
   "id": "cbebf4cd",
   "metadata": {},
   "outputs": [],
   "source": [
    "df['age_bin'] = pd.cut(df['Age_wiki'], bins=age_bin, labels = labels)"
   ]
  },
  {
   "cell_type": "code",
   "execution_count": 137,
   "id": "c2d3332d",
   "metadata": {},
   "outputs": [
    {
     "data": {
      "text/html": [
       "<div>\n",
       "<style scoped>\n",
       "    .dataframe tbody tr th:only-of-type {\n",
       "        vertical-align: middle;\n",
       "    }\n",
       "\n",
       "    .dataframe tbody tr th {\n",
       "        vertical-align: top;\n",
       "    }\n",
       "\n",
       "    .dataframe thead th {\n",
       "        text-align: right;\n",
       "    }\n",
       "</style>\n",
       "<table border=\"1\" class=\"dataframe\">\n",
       "  <thead>\n",
       "    <tr style=\"text-align: right;\">\n",
       "      <th></th>\n",
       "      <th>PassengerId</th>\n",
       "      <th>Survived</th>\n",
       "      <th>Pclass</th>\n",
       "      <th>Name</th>\n",
       "      <th>Sex</th>\n",
       "      <th>Age</th>\n",
       "      <th>SibSp</th>\n",
       "      <th>Parch</th>\n",
       "      <th>Ticket</th>\n",
       "      <th>Fare</th>\n",
       "      <th>Embarked</th>\n",
       "      <th>WikiId</th>\n",
       "      <th>Name_wiki</th>\n",
       "      <th>Age_wiki</th>\n",
       "      <th>Hometown</th>\n",
       "      <th>Boarded</th>\n",
       "      <th>Destination</th>\n",
       "      <th>age_bin</th>\n",
       "    </tr>\n",
       "  </thead>\n",
       "  <tbody>\n",
       "    <tr>\n",
       "      <th>0</th>\n",
       "      <td>1</td>\n",
       "      <td>0.0</td>\n",
       "      <td>3</td>\n",
       "      <td>Braund, Mr. Owen Harris</td>\n",
       "      <td>male</td>\n",
       "      <td>22.0</td>\n",
       "      <td>1</td>\n",
       "      <td>0</td>\n",
       "      <td>A/5 21171</td>\n",
       "      <td>7.2500</td>\n",
       "      <td>S</td>\n",
       "      <td>691.0</td>\n",
       "      <td>Braund, Mr. Owen Harris</td>\n",
       "      <td>22.0</td>\n",
       "      <td>Bridgerule, Devon, England</td>\n",
       "      <td>Southampton</td>\n",
       "      <td>Qu'Appelle Valley, Saskatchewan, Canada</td>\n",
       "      <td>Adult</td>\n",
       "    </tr>\n",
       "    <tr>\n",
       "      <th>1</th>\n",
       "      <td>2</td>\n",
       "      <td>1.0</td>\n",
       "      <td>1</td>\n",
       "      <td>Cumings, Mrs. John Bradley (Florence Briggs Th...</td>\n",
       "      <td>female</td>\n",
       "      <td>38.0</td>\n",
       "      <td>1</td>\n",
       "      <td>0</td>\n",
       "      <td>PC 17599</td>\n",
       "      <td>71.2833</td>\n",
       "      <td>C</td>\n",
       "      <td>90.0</td>\n",
       "      <td>Cumings, Mrs. Florence Briggs (née Thayer)</td>\n",
       "      <td>35.0</td>\n",
       "      <td>New York, New York, US</td>\n",
       "      <td>Cherbourg</td>\n",
       "      <td>New York, New York, US</td>\n",
       "      <td>Adult</td>\n",
       "    </tr>\n",
       "    <tr>\n",
       "      <th>2</th>\n",
       "      <td>3</td>\n",
       "      <td>1.0</td>\n",
       "      <td>3</td>\n",
       "      <td>Heikkinen, Miss. Laina</td>\n",
       "      <td>female</td>\n",
       "      <td>26.0</td>\n",
       "      <td>0</td>\n",
       "      <td>0</td>\n",
       "      <td>STON/O2. 3101282</td>\n",
       "      <td>7.9250</td>\n",
       "      <td>S</td>\n",
       "      <td>865.0</td>\n",
       "      <td>Heikkinen, Miss Laina</td>\n",
       "      <td>26.0</td>\n",
       "      <td>Jyväskylä, Finland</td>\n",
       "      <td>Southampton</td>\n",
       "      <td>New York City</td>\n",
       "      <td>Adult</td>\n",
       "    </tr>\n",
       "    <tr>\n",
       "      <th>3</th>\n",
       "      <td>4</td>\n",
       "      <td>1.0</td>\n",
       "      <td>1</td>\n",
       "      <td>Futrelle, Mrs. Jacques Heath (Lily May Peel)</td>\n",
       "      <td>female</td>\n",
       "      <td>35.0</td>\n",
       "      <td>1</td>\n",
       "      <td>0</td>\n",
       "      <td>113803</td>\n",
       "      <td>53.1000</td>\n",
       "      <td>S</td>\n",
       "      <td>127.0</td>\n",
       "      <td>Futrelle, Mrs. Lily May (née Peel)</td>\n",
       "      <td>35.0</td>\n",
       "      <td>Scituate, Massachusetts, US</td>\n",
       "      <td>Southampton</td>\n",
       "      <td>Scituate, Massachusetts, US</td>\n",
       "      <td>Adult</td>\n",
       "    </tr>\n",
       "    <tr>\n",
       "      <th>4</th>\n",
       "      <td>5</td>\n",
       "      <td>0.0</td>\n",
       "      <td>3</td>\n",
       "      <td>Allen, Mr. William Henry</td>\n",
       "      <td>male</td>\n",
       "      <td>35.0</td>\n",
       "      <td>0</td>\n",
       "      <td>0</td>\n",
       "      <td>373450</td>\n",
       "      <td>8.0500</td>\n",
       "      <td>S</td>\n",
       "      <td>627.0</td>\n",
       "      <td>Allen, Mr. William Henry</td>\n",
       "      <td>35.0</td>\n",
       "      <td>Birmingham, West Midlands, England</td>\n",
       "      <td>Southampton</td>\n",
       "      <td>New York City</td>\n",
       "      <td>Adult</td>\n",
       "    </tr>\n",
       "  </tbody>\n",
       "</table>\n",
       "</div>"
      ],
      "text/plain": [
       "   PassengerId  Survived  Pclass  \\\n",
       "0            1       0.0       3   \n",
       "1            2       1.0       1   \n",
       "2            3       1.0       3   \n",
       "3            4       1.0       1   \n",
       "4            5       0.0       3   \n",
       "\n",
       "                                                Name     Sex   Age  SibSp  \\\n",
       "0                            Braund, Mr. Owen Harris    male  22.0      1   \n",
       "1  Cumings, Mrs. John Bradley (Florence Briggs Th...  female  38.0      1   \n",
       "2                             Heikkinen, Miss. Laina  female  26.0      0   \n",
       "3       Futrelle, Mrs. Jacques Heath (Lily May Peel)  female  35.0      1   \n",
       "4                           Allen, Mr. William Henry    male  35.0      0   \n",
       "\n",
       "   Parch            Ticket     Fare Embarked  WikiId  \\\n",
       "0      0         A/5 21171   7.2500        S   691.0   \n",
       "1      0          PC 17599  71.2833        C    90.0   \n",
       "2      0  STON/O2. 3101282   7.9250        S   865.0   \n",
       "3      0            113803  53.1000        S   127.0   \n",
       "4      0            373450   8.0500        S   627.0   \n",
       "\n",
       "                                    Name_wiki  Age_wiki  \\\n",
       "0                     Braund, Mr. Owen Harris      22.0   \n",
       "1  Cumings, Mrs. Florence Briggs (née Thayer)      35.0   \n",
       "2                       Heikkinen, Miss Laina      26.0   \n",
       "3          Futrelle, Mrs. Lily May (née Peel)      35.0   \n",
       "4                    Allen, Mr. William Henry      35.0   \n",
       "\n",
       "                             Hometown      Boarded  \\\n",
       "0          Bridgerule, Devon, England  Southampton   \n",
       "1              New York, New York, US    Cherbourg   \n",
       "2                  Jyväskylä, Finland  Southampton   \n",
       "3         Scituate, Massachusetts, US  Southampton   \n",
       "4  Birmingham, West Midlands, England  Southampton   \n",
       "\n",
       "                               Destination age_bin  \n",
       "0  Qu'Appelle Valley, Saskatchewan, Canada   Adult  \n",
       "1                   New York, New York, US   Adult  \n",
       "2                            New York City   Adult  \n",
       "3              Scituate, Massachusetts, US   Adult  \n",
       "4                            New York City   Adult  "
      ]
     },
     "execution_count": 137,
     "metadata": {},
     "output_type": "execute_result"
    }
   ],
   "source": [
    "df.head()"
   ]
  },
  {
   "cell_type": "code",
   "execution_count": 138,
   "id": "04aa2891",
   "metadata": {},
   "outputs": [
    {
     "data": {
      "text/html": [
       "<div>\n",
       "<style scoped>\n",
       "    .dataframe tbody tr th:only-of-type {\n",
       "        vertical-align: middle;\n",
       "    }\n",
       "\n",
       "    .dataframe tbody tr th {\n",
       "        vertical-align: top;\n",
       "    }\n",
       "\n",
       "    .dataframe thead th {\n",
       "        text-align: right;\n",
       "    }\n",
       "</style>\n",
       "<table border=\"1\" class=\"dataframe\">\n",
       "  <thead>\n",
       "    <tr style=\"text-align: right;\">\n",
       "      <th></th>\n",
       "      <th>Survived</th>\n",
       "    </tr>\n",
       "    <tr>\n",
       "      <th>age_bin</th>\n",
       "      <th></th>\n",
       "    </tr>\n",
       "  </thead>\n",
       "  <tbody>\n",
       "    <tr>\n",
       "      <th>Kids</th>\n",
       "      <td>56.944444</td>\n",
       "    </tr>\n",
       "    <tr>\n",
       "      <th>Teenager</th>\n",
       "      <td>32.258065</td>\n",
       "    </tr>\n",
       "    <tr>\n",
       "      <th>Adult</th>\n",
       "      <td>37.931034</td>\n",
       "    </tr>\n",
       "    <tr>\n",
       "      <th>Old</th>\n",
       "      <td>37.426901</td>\n",
       "    </tr>\n",
       "  </tbody>\n",
       "</table>\n",
       "</div>"
      ],
      "text/plain": [
       "           Survived\n",
       "age_bin            \n",
       "Kids      56.944444\n",
       "Teenager  32.258065\n",
       "Adult     37.931034\n",
       "Old       37.426901"
      ]
     },
     "execution_count": 138,
     "metadata": {},
     "output_type": "execute_result"
    }
   ],
   "source": [
    "df[['age_bin', 'Survived']].groupby('age_bin').mean()*100"
   ]
  },
  {
   "cell_type": "markdown",
   "id": "d96e70b7",
   "metadata": {},
   "source": [
    "- Kelompok usia kids (0-10) memiliki survival rates paling tinggi di antara kelompok usia lain\n",
    "- Age berpengaruh terhadap survival Rates"
   ]
  },
  {
   "cell_type": "markdown",
   "id": "dc0d5b07",
   "metadata": {},
   "source": [
    "### Cek SibSp"
   ]
  },
  {
   "cell_type": "code",
   "execution_count": 139,
   "id": "20da92be",
   "metadata": {},
   "outputs": [
    {
     "data": {
      "text/html": [
       "<div>\n",
       "<style scoped>\n",
       "    .dataframe tbody tr th:only-of-type {\n",
       "        vertical-align: middle;\n",
       "    }\n",
       "\n",
       "    .dataframe tbody tr th {\n",
       "        vertical-align: top;\n",
       "    }\n",
       "\n",
       "    .dataframe thead th {\n",
       "        text-align: right;\n",
       "    }\n",
       "</style>\n",
       "<table border=\"1\" class=\"dataframe\">\n",
       "  <thead>\n",
       "    <tr style=\"text-align: right;\">\n",
       "      <th></th>\n",
       "      <th>Survived</th>\n",
       "    </tr>\n",
       "    <tr>\n",
       "      <th>SibSp</th>\n",
       "      <th></th>\n",
       "    </tr>\n",
       "  </thead>\n",
       "  <tbody>\n",
       "    <tr>\n",
       "      <th>1</th>\n",
       "      <td>53.588517</td>\n",
       "    </tr>\n",
       "    <tr>\n",
       "      <th>2</th>\n",
       "      <td>46.428571</td>\n",
       "    </tr>\n",
       "    <tr>\n",
       "      <th>0</th>\n",
       "      <td>34.539474</td>\n",
       "    </tr>\n",
       "    <tr>\n",
       "      <th>3</th>\n",
       "      <td>25.000000</td>\n",
       "    </tr>\n",
       "    <tr>\n",
       "      <th>4</th>\n",
       "      <td>16.666667</td>\n",
       "    </tr>\n",
       "    <tr>\n",
       "      <th>5</th>\n",
       "      <td>0.000000</td>\n",
       "    </tr>\n",
       "    <tr>\n",
       "      <th>8</th>\n",
       "      <td>0.000000</td>\n",
       "    </tr>\n",
       "  </tbody>\n",
       "</table>\n",
       "</div>"
      ],
      "text/plain": [
       "        Survived\n",
       "SibSp           \n",
       "1      53.588517\n",
       "2      46.428571\n",
       "0      34.539474\n",
       "3      25.000000\n",
       "4      16.666667\n",
       "5       0.000000\n",
       "8       0.000000"
      ]
     },
     "execution_count": 139,
     "metadata": {},
     "output_type": "execute_result"
    }
   ],
   "source": [
    "(df[['SibSp','Survived']].groupby('SibSp').mean()*100).sort_values('Survived', ascending=False)"
   ]
  },
  {
   "cell_type": "markdown",
   "id": "6014f650",
   "metadata": {},
   "source": [
    "- 5 dan 8 mokat semua\n",
    "- Jumlah sibling - Spouse berpengaruh terhadap survival rates, jumlah SibSp = 1 paling tinggi survival ratesnya 53.58%\n",
    "- Jumlah SibSp dgn survival rates paling rendah adalah yg memiliki SibSp 5 keatas"
   ]
  },
  {
   "cell_type": "markdown",
   "id": "8194f3d8",
   "metadata": {},
   "source": [
    "### Cek ParCh"
   ]
  },
  {
   "cell_type": "code",
   "execution_count": 140,
   "id": "46f72ee3",
   "metadata": {},
   "outputs": [
    {
     "data": {
      "text/html": [
       "<div>\n",
       "<style scoped>\n",
       "    .dataframe tbody tr th:only-of-type {\n",
       "        vertical-align: middle;\n",
       "    }\n",
       "\n",
       "    .dataframe tbody tr th {\n",
       "        vertical-align: top;\n",
       "    }\n",
       "\n",
       "    .dataframe thead th {\n",
       "        text-align: right;\n",
       "    }\n",
       "</style>\n",
       "<table border=\"1\" class=\"dataframe\">\n",
       "  <thead>\n",
       "    <tr style=\"text-align: right;\">\n",
       "      <th></th>\n",
       "      <th>Survived</th>\n",
       "    </tr>\n",
       "    <tr>\n",
       "      <th>Parch</th>\n",
       "      <th></th>\n",
       "    </tr>\n",
       "  </thead>\n",
       "  <tbody>\n",
       "    <tr>\n",
       "      <th>3</th>\n",
       "      <td>60.000000</td>\n",
       "    </tr>\n",
       "    <tr>\n",
       "      <th>1</th>\n",
       "      <td>55.084746</td>\n",
       "    </tr>\n",
       "    <tr>\n",
       "      <th>2</th>\n",
       "      <td>50.000000</td>\n",
       "    </tr>\n",
       "    <tr>\n",
       "      <th>0</th>\n",
       "      <td>34.365782</td>\n",
       "    </tr>\n",
       "    <tr>\n",
       "      <th>5</th>\n",
       "      <td>20.000000</td>\n",
       "    </tr>\n",
       "    <tr>\n",
       "      <th>4</th>\n",
       "      <td>0.000000</td>\n",
       "    </tr>\n",
       "    <tr>\n",
       "      <th>6</th>\n",
       "      <td>0.000000</td>\n",
       "    </tr>\n",
       "  </tbody>\n",
       "</table>\n",
       "</div>"
      ],
      "text/plain": [
       "        Survived\n",
       "Parch           \n",
       "3      60.000000\n",
       "1      55.084746\n",
       "2      50.000000\n",
       "0      34.365782\n",
       "5      20.000000\n",
       "4       0.000000\n",
       "6       0.000000"
      ]
     },
     "execution_count": 140,
     "metadata": {},
     "output_type": "execute_result"
    }
   ],
   "source": [
    "(df[['Parch','Survived']].groupby('Parch').mean()*100).sort_values('Survived', ascending = False)"
   ]
  },
  {
   "cell_type": "markdown",
   "id": "a445f1d6",
   "metadata": {},
   "source": [
    "- Jumlah Parent - Children berpengaruh terhadap Survival Rates\n",
    "- Jumlah ParCh 3 Survival Ratesnya paling tinggi >= 60%"
   ]
  },
  {
   "cell_type": "markdown",
   "id": "ab9de162",
   "metadata": {},
   "source": [
    "### Cek Embarked - Boarder"
   ]
  },
  {
   "cell_type": "code",
   "execution_count": 141,
   "id": "39c8db76",
   "metadata": {},
   "outputs": [
    {
     "data": {
      "text/html": [
       "<div>\n",
       "<style scoped>\n",
       "    .dataframe tbody tr th:only-of-type {\n",
       "        vertical-align: middle;\n",
       "    }\n",
       "\n",
       "    .dataframe tbody tr th {\n",
       "        vertical-align: top;\n",
       "    }\n",
       "\n",
       "    .dataframe thead th {\n",
       "        text-align: right;\n",
       "    }\n",
       "</style>\n",
       "<table border=\"1\" class=\"dataframe\">\n",
       "  <thead>\n",
       "    <tr style=\"text-align: right;\">\n",
       "      <th></th>\n",
       "      <th>Survived</th>\n",
       "    </tr>\n",
       "    <tr>\n",
       "      <th>Embarked</th>\n",
       "      <th></th>\n",
       "    </tr>\n",
       "  </thead>\n",
       "  <tbody>\n",
       "    <tr>\n",
       "      <th>C</th>\n",
       "      <td>55.357143</td>\n",
       "    </tr>\n",
       "    <tr>\n",
       "      <th>Q</th>\n",
       "      <td>38.961039</td>\n",
       "    </tr>\n",
       "    <tr>\n",
       "      <th>S</th>\n",
       "      <td>33.695652</td>\n",
       "    </tr>\n",
       "  </tbody>\n",
       "</table>\n",
       "</div>"
      ],
      "text/plain": [
       "           Survived\n",
       "Embarked           \n",
       "C         55.357143\n",
       "Q         38.961039\n",
       "S         33.695652"
      ]
     },
     "execution_count": 141,
     "metadata": {},
     "output_type": "execute_result"
    }
   ],
   "source": [
    "(df[['Embarked','Survived']].groupby('Embarked').mean()*100).sort_values('Survived', ascending = False)"
   ]
  },
  {
   "cell_type": "markdown",
   "id": "bddd2eb2",
   "metadata": {},
   "source": [
    "B tidak muncul karena merupakan NA"
   ]
  },
  {
   "cell_type": "code",
   "execution_count": 142,
   "id": "369aa251",
   "metadata": {},
   "outputs": [
    {
     "data": {
      "text/html": [
       "<div>\n",
       "<style scoped>\n",
       "    .dataframe tbody tr th:only-of-type {\n",
       "        vertical-align: middle;\n",
       "    }\n",
       "\n",
       "    .dataframe tbody tr th {\n",
       "        vertical-align: top;\n",
       "    }\n",
       "\n",
       "    .dataframe thead th {\n",
       "        text-align: right;\n",
       "    }\n",
       "</style>\n",
       "<table border=\"1\" class=\"dataframe\">\n",
       "  <thead>\n",
       "    <tr style=\"text-align: right;\">\n",
       "      <th></th>\n",
       "      <th>Survived</th>\n",
       "    </tr>\n",
       "    <tr>\n",
       "      <th>Boarded</th>\n",
       "      <th></th>\n",
       "    </tr>\n",
       "  </thead>\n",
       "  <tbody>\n",
       "    <tr>\n",
       "      <th>Cherbourg</th>\n",
       "      <td>56.024096</td>\n",
       "    </tr>\n",
       "    <tr>\n",
       "      <th>Queenstown</th>\n",
       "      <td>38.157895</td>\n",
       "    </tr>\n",
       "    <tr>\n",
       "      <th>Southampton</th>\n",
       "      <td>34.326019</td>\n",
       "    </tr>\n",
       "    <tr>\n",
       "      <th>Belfast</th>\n",
       "      <td>0.000000</td>\n",
       "    </tr>\n",
       "  </tbody>\n",
       "</table>\n",
       "</div>"
      ],
      "text/plain": [
       "              Survived\n",
       "Boarded               \n",
       "Cherbourg    56.024096\n",
       "Queenstown   38.157895\n",
       "Southampton  34.326019\n",
       "Belfast       0.000000"
      ]
     },
     "execution_count": 142,
     "metadata": {},
     "output_type": "execute_result"
    }
   ],
   "source": [
    "(df[['Boarded','Survived']].groupby('Boarded').mean()*100).sort_values('Survived', ascending = False)"
   ]
  },
  {
   "cell_type": "markdown",
   "id": "def81012",
   "metadata": {},
   "source": [
    "- Embarked singkatan\n",
    "- Boarded kepanjangan"
   ]
  },
  {
   "cell_type": "raw",
   "id": "9c0e9e8e",
   "metadata": {},
   "source": [
    "korelasi antara kategorikal - kategorikal\n",
    "korelasi antara numerikal - numerikal -> .corr"
   ]
  },
  {
   "cell_type": "code",
   "execution_count": 143,
   "id": "369fb259",
   "metadata": {},
   "outputs": [],
   "source": [
    "## DataFrame for Train"
   ]
  },
  {
   "cell_type": "code",
   "execution_count": 144,
   "id": "e34bac98",
   "metadata": {},
   "outputs": [],
   "source": [
    "df_1 = df[['Survived','Pclass','Sex','SibSp','Parch','Embarked','Age_wiki']]"
   ]
  },
  {
   "cell_type": "code",
   "execution_count": 145,
   "id": "f91ab566",
   "metadata": {},
   "outputs": [
    {
     "data": {
      "text/plain": [
       "Survived    0\n",
       "Pclass      0\n",
       "Sex         0\n",
       "SibSp       0\n",
       "Parch       0\n",
       "Embarked    2\n",
       "Age_wiki    0\n",
       "dtype: int64"
      ]
     },
     "execution_count": 145,
     "metadata": {},
     "output_type": "execute_result"
    }
   ],
   "source": [
    "df_1.isna().sum()"
   ]
  },
  {
   "cell_type": "code",
   "execution_count": 146,
   "id": "ad819adf",
   "metadata": {},
   "outputs": [],
   "source": [
    "## Handling NA"
   ]
  },
  {
   "cell_type": "code",
   "execution_count": 147,
   "id": "23686cff",
   "metadata": {},
   "outputs": [
    {
     "data": {
      "text/plain": [
       "2"
      ]
     },
     "execution_count": 147,
     "metadata": {},
     "output_type": "execute_result"
    }
   ],
   "source": [
    "df_1['Embarked'].isna().sum()"
   ]
  },
  {
   "cell_type": "code",
   "execution_count": 148,
   "id": "b29c8fa5",
   "metadata": {},
   "outputs": [
    {
     "data": {
      "text/plain": [
       "S    644\n",
       "C    168\n",
       "Q     77\n",
       "Name: Embarked, dtype: int64"
      ]
     },
     "execution_count": 148,
     "metadata": {},
     "output_type": "execute_result"
    }
   ],
   "source": [
    "df_1['Embarked'].value_counts()"
   ]
  },
  {
   "cell_type": "code",
   "execution_count": 149,
   "id": "a29e8b5e",
   "metadata": {},
   "outputs": [],
   "source": [
    "df_1['Embarked'] = df_1['Embarked'].fillna('S')\n",
    "# isi NA dg S"
   ]
  },
  {
   "cell_type": "code",
   "execution_count": 150,
   "id": "5ad2a9a2",
   "metadata": {},
   "outputs": [
    {
     "data": {
      "text/plain": [
       "0"
      ]
     },
     "execution_count": 150,
     "metadata": {},
     "output_type": "execute_result"
    }
   ],
   "source": [
    "df_1['Embarked'].isna().sum()"
   ]
  },
  {
   "cell_type": "code",
   "execution_count": 151,
   "id": "5ea03ff9",
   "metadata": {},
   "outputs": [
    {
     "data": {
      "text/html": [
       "<div>\n",
       "<style scoped>\n",
       "    .dataframe tbody tr th:only-of-type {\n",
       "        vertical-align: middle;\n",
       "    }\n",
       "\n",
       "    .dataframe tbody tr th {\n",
       "        vertical-align: top;\n",
       "    }\n",
       "\n",
       "    .dataframe thead th {\n",
       "        text-align: right;\n",
       "    }\n",
       "</style>\n",
       "<table border=\"1\" class=\"dataframe\">\n",
       "  <thead>\n",
       "    <tr style=\"text-align: right;\">\n",
       "      <th></th>\n",
       "      <th>Survived</th>\n",
       "      <th>Pclass</th>\n",
       "      <th>Sex</th>\n",
       "      <th>SibSp</th>\n",
       "      <th>Parch</th>\n",
       "      <th>Embarked</th>\n",
       "      <th>Age_wiki</th>\n",
       "    </tr>\n",
       "  </thead>\n",
       "  <tbody>\n",
       "    <tr>\n",
       "      <th>0</th>\n",
       "      <td>0.0</td>\n",
       "      <td>3</td>\n",
       "      <td>male</td>\n",
       "      <td>1</td>\n",
       "      <td>0</td>\n",
       "      <td>S</td>\n",
       "      <td>22.0</td>\n",
       "    </tr>\n",
       "    <tr>\n",
       "      <th>1</th>\n",
       "      <td>1.0</td>\n",
       "      <td>1</td>\n",
       "      <td>female</td>\n",
       "      <td>1</td>\n",
       "      <td>0</td>\n",
       "      <td>C</td>\n",
       "      <td>35.0</td>\n",
       "    </tr>\n",
       "    <tr>\n",
       "      <th>2</th>\n",
       "      <td>1.0</td>\n",
       "      <td>3</td>\n",
       "      <td>female</td>\n",
       "      <td>0</td>\n",
       "      <td>0</td>\n",
       "      <td>S</td>\n",
       "      <td>26.0</td>\n",
       "    </tr>\n",
       "    <tr>\n",
       "      <th>3</th>\n",
       "      <td>1.0</td>\n",
       "      <td>1</td>\n",
       "      <td>female</td>\n",
       "      <td>1</td>\n",
       "      <td>0</td>\n",
       "      <td>S</td>\n",
       "      <td>35.0</td>\n",
       "    </tr>\n",
       "    <tr>\n",
       "      <th>4</th>\n",
       "      <td>0.0</td>\n",
       "      <td>3</td>\n",
       "      <td>male</td>\n",
       "      <td>0</td>\n",
       "      <td>0</td>\n",
       "      <td>S</td>\n",
       "      <td>35.0</td>\n",
       "    </tr>\n",
       "  </tbody>\n",
       "</table>\n",
       "</div>"
      ],
      "text/plain": [
       "   Survived  Pclass     Sex  SibSp  Parch Embarked  Age_wiki\n",
       "0       0.0       3    male      1      0        S      22.0\n",
       "1       1.0       1  female      1      0        C      35.0\n",
       "2       1.0       3  female      0      0        S      26.0\n",
       "3       1.0       1  female      1      0        S      35.0\n",
       "4       0.0       3    male      0      0        S      35.0"
      ]
     },
     "execution_count": 151,
     "metadata": {},
     "output_type": "execute_result"
    }
   ],
   "source": [
    "df_1.head()"
   ]
  },
  {
   "cell_type": "markdown",
   "id": "79cefb7e",
   "metadata": {},
   "source": [
    "### Encoding"
   ]
  },
  {
   "cell_type": "code",
   "execution_count": 152,
   "id": "c2d79c5c",
   "metadata": {},
   "outputs": [],
   "source": [
    "## Label\n",
    "df_1['Sex'] = df_1['Sex'].map({\n",
    "    'male' : 0,\n",
    "    'female' : 1\n",
    "})\n",
    "# .map()"
   ]
  },
  {
   "cell_type": "raw",
   "id": "9d461c03",
   "metadata": {},
   "source": [
    "## Label -> .map()\n",
    "- mengubah kategorikal/text menjadi angka\n",
    "- khusus untuk kolom kategorikal yg bersifat ordinal atau binary\n",
    "- Ordinal isiya berupa kategori yg memiliki urutan\n",
    "- Binary isinya berupa kategori yg memiliki data unik hanya 2"
   ]
  },
  {
   "cell_type": "code",
   "execution_count": 153,
   "id": "65c93391",
   "metadata": {},
   "outputs": [],
   "source": [
    "df_1 = pd.get_dummies(df_1, columns=['Embarked'])"
   ]
  },
  {
   "cell_type": "raw",
   "id": "3b74b1dc",
   "metadata": {},
   "source": [
    "## One Hot -> .get_dummiest()\n",
    "- Khusus mengubah text/kategorikal menjadi angka \n",
    "- Khusus kolom kategorikal nominal\n",
    "- Isis datanya berupa kategori yg tidak memiliki urutan\n",
    "- Meskipun One Hot sebenarnya bersifat Robust(bisa digunakan untuk semua jenis kategorikal(Binary, nominak, ordinal)\n",
    "- Jika data bersifat ordinal ataupun binary menggunakan label agar mempercepat proses komputasi, karena proses One Hot membuat kolom dummy baru sebanyak data unik yg ada                                           "
   ]
  },
  {
   "cell_type": "code",
   "execution_count": 154,
   "id": "c4356090",
   "metadata": {},
   "outputs": [
    {
     "data": {
      "image/png": "[encoded data removed]",
      "text/plain": [
       "<Figure size 864x576 with 2 Axes>"
      ]
     },
     "metadata": {
      "needs_background": "light"
     },
     "output_type": "display_data"
    }
   ],
   "source": [
    "## Cek korelasi\n",
    "plt.figure(figsize=(12,8))\n",
    "sns.heatmap(df_1.corr(), annot=True)\n",
    "plt.show()\n",
    "# pearson\n",
    "# optional ajh karena kita sudah melakukan feature selection menggunakan EDA"
   ]
  },
  {
   "cell_type": "markdown",
   "id": "58344b1b",
   "metadata": {},
   "source": [
    "karena jumlah features cukup sedikit karena kita sudah melakukan quick eda untk mengetahui pengaruh features terhadap target, sehingga sementara kita gunakan semua features meski korelasinya rendah"
   ]
  },
  {
   "cell_type": "markdown",
   "id": "0675dcd1",
   "metadata": {},
   "source": [
    "# ML - Modelling"
   ]
  },
  {
   "cell_type": "code",
   "execution_count": 155,
   "id": "8ad56e01",
   "metadata": {},
   "outputs": [],
   "source": [
    "from sklearn.model_selection import train_test_split\n",
    "from sklearn.linear_model import LogisticRegression"
   ]
  },
  {
   "cell_type": "markdown",
   "id": "ee1fe155",
   "metadata": {},
   "source": [
    "Splitting Data"
   ]
  },
  {
   "cell_type": "code",
   "execution_count": 156,
   "id": "86261316",
   "metadata": {},
   "outputs": [],
   "source": [
    "X = df_1.drop(columns='Survived')\n",
    "y = df_1['Survived'] # y=label/aktual"
   ]
  },
  {
   "cell_type": "code",
   "execution_count": 157,
   "id": "519e0574",
   "metadata": {},
   "outputs": [],
   "source": [
    "X_train,X_test,y_train,y_test = train_test_split(X,y,train_size = .80, stratify=y, random_state = 42)"
   ]
  },
  {
   "cell_type": "markdown",
   "id": "23dfabfd",
   "metadata": {},
   "source": [
    "- Train Test Split ketika kasus klasifikasi, harus gunakan parameter stratify untk labelnya agar ketika melakukan splitting bisa fair antara label/target/class\n",
    "- Stratify khusus kasus klasifikasi, untuk linear tidak bisa"
   ]
  },
  {
   "cell_type": "code",
   "execution_count": 158,
   "id": "6b3f9366",
   "metadata": {},
   "outputs": [
    {
     "data": {
      "text/html": [
       "<div>\n",
       "<style scoped>\n",
       "    .dataframe tbody tr th:only-of-type {\n",
       "        vertical-align: middle;\n",
       "    }\n",
       "\n",
       "    .dataframe tbody tr th {\n",
       "        vertical-align: top;\n",
       "    }\n",
       "\n",
       "    .dataframe thead th {\n",
       "        text-align: right;\n",
       "    }\n",
       "</style>\n",
       "<table border=\"1\" class=\"dataframe\">\n",
       "  <thead>\n",
       "    <tr style=\"text-align: right;\">\n",
       "      <th></th>\n",
       "      <th>Pclass</th>\n",
       "      <th>Sex</th>\n",
       "      <th>SibSp</th>\n",
       "      <th>Parch</th>\n",
       "      <th>Age_wiki</th>\n",
       "      <th>Embarked_C</th>\n",
       "      <th>Embarked_Q</th>\n",
       "      <th>Embarked_S</th>\n",
       "    </tr>\n",
       "  </thead>\n",
       "  <tbody>\n",
       "    <tr>\n",
       "      <th>692</th>\n",
       "      <td>3</td>\n",
       "      <td>0</td>\n",
       "      <td>0</td>\n",
       "      <td>0</td>\n",
       "      <td>37.0</td>\n",
       "      <td>0</td>\n",
       "      <td>0</td>\n",
       "      <td>1</td>\n",
       "    </tr>\n",
       "    <tr>\n",
       "      <th>481</th>\n",
       "      <td>2</td>\n",
       "      <td>0</td>\n",
       "      <td>0</td>\n",
       "      <td>0</td>\n",
       "      <td>37.0</td>\n",
       "      <td>0</td>\n",
       "      <td>0</td>\n",
       "      <td>1</td>\n",
       "    </tr>\n",
       "    <tr>\n",
       "      <th>527</th>\n",
       "      <td>1</td>\n",
       "      <td>0</td>\n",
       "      <td>0</td>\n",
       "      <td>0</td>\n",
       "      <td>57.0</td>\n",
       "      <td>0</td>\n",
       "      <td>0</td>\n",
       "      <td>1</td>\n",
       "    </tr>\n",
       "    <tr>\n",
       "      <th>855</th>\n",
       "      <td>3</td>\n",
       "      <td>1</td>\n",
       "      <td>0</td>\n",
       "      <td>1</td>\n",
       "      <td>18.0</td>\n",
       "      <td>0</td>\n",
       "      <td>0</td>\n",
       "      <td>1</td>\n",
       "    </tr>\n",
       "    <tr>\n",
       "      <th>801</th>\n",
       "      <td>2</td>\n",
       "      <td>1</td>\n",
       "      <td>1</td>\n",
       "      <td>1</td>\n",
       "      <td>31.0</td>\n",
       "      <td>0</td>\n",
       "      <td>0</td>\n",
       "      <td>1</td>\n",
       "    </tr>\n",
       "  </tbody>\n",
       "</table>\n",
       "</div>"
      ],
      "text/plain": [
       "     Pclass  Sex  SibSp  Parch  Age_wiki  Embarked_C  Embarked_Q  Embarked_S\n",
       "692       3    0      0      0      37.0           0           0           1\n",
       "481       2    0      0      0      37.0           0           0           1\n",
       "527       1    0      0      0      57.0           0           0           1\n",
       "855       3    1      0      1      18.0           0           0           1\n",
       "801       2    1      1      1      31.0           0           0           1"
      ]
     },
     "execution_count": 158,
     "metadata": {},
     "output_type": "execute_result"
    }
   ],
   "source": [
    "X_train.head()"
   ]
  },
  {
   "cell_type": "code",
   "execution_count": 159,
   "id": "b9e270da",
   "metadata": {},
   "outputs": [
    {
     "data": {
      "text/html": [
       "<div>\n",
       "<style scoped>\n",
       "    .dataframe tbody tr th:only-of-type {\n",
       "        vertical-align: middle;\n",
       "    }\n",
       "\n",
       "    .dataframe tbody tr th {\n",
       "        vertical-align: top;\n",
       "    }\n",
       "\n",
       "    .dataframe thead th {\n",
       "        text-align: right;\n",
       "    }\n",
       "</style>\n",
       "<table border=\"1\" class=\"dataframe\">\n",
       "  <thead>\n",
       "    <tr style=\"text-align: right;\">\n",
       "      <th></th>\n",
       "      <th>Pclass</th>\n",
       "      <th>Sex</th>\n",
       "      <th>SibSp</th>\n",
       "      <th>Parch</th>\n",
       "      <th>Age_wiki</th>\n",
       "      <th>Embarked_C</th>\n",
       "      <th>Embarked_Q</th>\n",
       "      <th>Embarked_S</th>\n",
       "    </tr>\n",
       "  </thead>\n",
       "  <tbody>\n",
       "    <tr>\n",
       "      <th>565</th>\n",
       "      <td>3</td>\n",
       "      <td>0</td>\n",
       "      <td>2</td>\n",
       "      <td>0</td>\n",
       "      <td>24.0</td>\n",
       "      <td>0</td>\n",
       "      <td>0</td>\n",
       "      <td>1</td>\n",
       "    </tr>\n",
       "    <tr>\n",
       "      <th>160</th>\n",
       "      <td>3</td>\n",
       "      <td>0</td>\n",
       "      <td>0</td>\n",
       "      <td>1</td>\n",
       "      <td>44.0</td>\n",
       "      <td>0</td>\n",
       "      <td>0</td>\n",
       "      <td>1</td>\n",
       "    </tr>\n",
       "    <tr>\n",
       "      <th>553</th>\n",
       "      <td>3</td>\n",
       "      <td>0</td>\n",
       "      <td>0</td>\n",
       "      <td>0</td>\n",
       "      <td>22.0</td>\n",
       "      <td>1</td>\n",
       "      <td>0</td>\n",
       "      <td>0</td>\n",
       "    </tr>\n",
       "    <tr>\n",
       "      <th>860</th>\n",
       "      <td>3</td>\n",
       "      <td>0</td>\n",
       "      <td>2</td>\n",
       "      <td>0</td>\n",
       "      <td>41.0</td>\n",
       "      <td>0</td>\n",
       "      <td>0</td>\n",
       "      <td>1</td>\n",
       "    </tr>\n",
       "    <tr>\n",
       "      <th>241</th>\n",
       "      <td>3</td>\n",
       "      <td>1</td>\n",
       "      <td>1</td>\n",
       "      <td>0</td>\n",
       "      <td>18.0</td>\n",
       "      <td>0</td>\n",
       "      <td>1</td>\n",
       "      <td>0</td>\n",
       "    </tr>\n",
       "  </tbody>\n",
       "</table>\n",
       "</div>"
      ],
      "text/plain": [
       "     Pclass  Sex  SibSp  Parch  Age_wiki  Embarked_C  Embarked_Q  Embarked_S\n",
       "565       3    0      2      0      24.0           0           0           1\n",
       "160       3    0      0      1      44.0           0           0           1\n",
       "553       3    0      0      0      22.0           1           0           0\n",
       "860       3    0      2      0      41.0           0           0           1\n",
       "241       3    1      1      0      18.0           0           1           0"
      ]
     },
     "execution_count": 159,
     "metadata": {},
     "output_type": "execute_result"
    }
   ],
   "source": [
    "X_test.head()"
   ]
  },
  {
   "cell_type": "markdown",
   "id": "f63b647b",
   "metadata": {},
   "source": [
    "Model Training"
   ]
  },
  {
   "cell_type": "code",
   "execution_count": 160,
   "id": "7032e172",
   "metadata": {},
   "outputs": [],
   "source": [
    "model_LR = LogisticRegression()"
   ]
  },
  {
   "cell_type": "code",
   "execution_count": 161,
   "id": "93364574",
   "metadata": {},
   "outputs": [
    {
     "data": {
      "text/plain": [
       "LogisticRegression()"
      ]
     },
     "execution_count": 161,
     "metadata": {},
     "output_type": "execute_result"
    }
   ],
   "source": [
    "model_LR.fit(X_train, y_train)"
   ]
  },
  {
   "cell_type": "markdown",
   "id": "6e7de71a",
   "metadata": {},
   "source": [
    "## Evaluation Matrix\n",
    "- Accuracy"
   ]
  },
  {
   "cell_type": "code",
   "execution_count": 162,
   "id": "2397cd73",
   "metadata": {},
   "outputs": [
    {
     "data": {
      "text/plain": [
       "0.8033707865168539"
      ]
     },
     "execution_count": 162,
     "metadata": {},
     "output_type": "execute_result"
    }
   ],
   "source": [
    "model_LR.score(X_train, y_train)"
   ]
  },
  {
   "cell_type": "code",
   "execution_count": 163,
   "id": "3a69de02",
   "metadata": {},
   "outputs": [
    {
     "data": {
      "text/plain": [
       "0.8100558659217877"
      ]
     },
     "execution_count": 163,
     "metadata": {},
     "output_type": "execute_result"
    }
   ],
   "source": [
    "model_LR.score(X_test, y_test)"
   ]
  },
  {
   "cell_type": "code",
   "execution_count": 164,
   "id": "d0d1c286",
   "metadata": {},
   "outputs": [
    {
     "data": {
      "text/plain": [
       "array([0., 0., 0., 1., 1., 0., 0., 1., 0., 0.])"
      ]
     },
     "execution_count": 164,
     "metadata": {},
     "output_type": "execute_result"
    }
   ],
   "source": [
    "model_LR.predict(X_train[:10])"
   ]
  },
  {
   "cell_type": "code",
   "execution_count": 165,
   "id": "6913b27e",
   "metadata": {},
   "outputs": [
    {
     "data": {
      "text/plain": [
       "692    1.0\n",
       "481    0.0\n",
       "527    0.0\n",
       "855    1.0\n",
       "801    1.0\n",
       "652    0.0\n",
       "509    1.0\n",
       "557    0.0\n",
       "828    1.0\n",
       "18     0.0\n",
       "Name: Survived, dtype: float64"
      ]
     },
     "execution_count": 165,
     "metadata": {},
     "output_type": "execute_result"
    }
   ],
   "source": [
    "y_train[:10]"
   ]
  },
  {
   "cell_type": "markdown",
   "id": "1ea57534",
   "metadata": {},
   "source": [
    "Note :"
   ]
  },
  {
   "cell_type": "raw",
   "id": "88ba04db",
   "metadata": {},
   "source": [
    "1. Akurasi = jumlah prediksi/seluruh prediksi\n",
    "\n",
    "2. Recall -> fokus diaktual\n",
    " (+) = jumalah aktual(+)/data aktual (+)\n",
    "     -> (+) TP / TP+FN \n",
    "     -> (-) TN / TN+FP\n",
    " \n",
    " (-) = jumalah aktual(-)/data aktual (-)\n",
    "     -> (+) TP / TP+FN \n",
    "     -> (-) TN / TN+FP \n",
    " \n",
    "     Bertujuan mengetahui salah satu positif/negatif saja, fokus ke salah satu part.\n",
    "\n",
    "3. Precision -> fokus diprediksi\n",
    " (+) = Jumlah keseluruhan TP/(TP+FP)\n",
    " (-) = Jumlah keseluruhan TN/(TN+FN)"
   ]
  },
  {
   "cell_type": "code",
   "execution_count": 166,
   "id": "1b17fc6a",
   "metadata": {},
   "outputs": [],
   "source": [
    "from sklearn.metrics import accuracy_score, recall_score, precision_score, f1_score"
   ]
  },
  {
   "cell_type": "code",
   "execution_count": 167,
   "id": "72f9a8dd",
   "metadata": {},
   "outputs": [],
   "source": [
    "y_pred_tr = model_LR.predict(X_train)"
   ]
  },
  {
   "cell_type": "code",
   "execution_count": 168,
   "id": "936cd0fa",
   "metadata": {},
   "outputs": [
    {
     "data": {
      "text/plain": [
       "0.8033707865168539"
      ]
     },
     "execution_count": 168,
     "metadata": {},
     "output_type": "execute_result"
    }
   ],
   "source": [
    "accuracy_score(y_train, y_pred_tr)"
   ]
  },
  {
   "cell_type": "code",
   "execution_count": 169,
   "id": "059b5403",
   "metadata": {},
   "outputs": [
    {
     "data": {
      "text/plain": [
       "0.7106227106227107"
      ]
     },
     "execution_count": 169,
     "metadata": {},
     "output_type": "execute_result"
    }
   ],
   "source": [
    "recall_score(y_train, y_pred_tr)"
   ]
  },
  {
   "cell_type": "code",
   "execution_count": 170,
   "id": "32673eb4",
   "metadata": {},
   "outputs": [
    {
     "data": {
      "text/plain": [
       "0.7607843137254902"
      ]
     },
     "execution_count": 170,
     "metadata": {},
     "output_type": "execute_result"
    }
   ],
   "source": [
    "precision_score(y_train, y_pred_tr)"
   ]
  },
  {
   "cell_type": "code",
   "execution_count": 171,
   "id": "2982025a",
   "metadata": {},
   "outputs": [
    {
     "data": {
      "text/plain": [
       "0.7348484848484848"
      ]
     },
     "execution_count": 171,
     "metadata": {},
     "output_type": "execute_result"
    }
   ],
   "source": [
    "f1_score(y_train, y_pred_tr)"
   ]
  },
  {
   "cell_type": "code",
   "execution_count": 172,
   "id": "99a4ca98",
   "metadata": {},
   "outputs": [],
   "source": [
    "def Eva_Matrix(Model, X, y_true):\n",
    "    y_pred = Model.predict(X)\n",
    "    Acc = accuracy_score(y_true, y_pred)\n",
    "    Rec = recall_score(y_true, y_pred)\n",
    "    Prec = precision_score(y_true, y_pred)\n",
    "    F1 = f1_score(y_true, y_pred)\n",
    "    return Acc, Rec, Prec, F1"
   ]
  },
  {
   "cell_type": "code",
   "execution_count": 173,
   "id": "1397e6f8",
   "metadata": {},
   "outputs": [],
   "source": [
    "## Eva Matrix Training"
   ]
  },
  {
   "cell_type": "code",
   "execution_count": 288,
   "id": "25a91eb0",
   "metadata": {},
   "outputs": [],
   "source": [
    "LR_Acc_tr, LR_Rec_tr, LR_Prec_tr, LR_F1_tr = Eva_Matrix(model_LR, X_train, y_train)"
   ]
  },
  {
   "cell_type": "code",
   "execution_count": 289,
   "id": "0b304a36",
   "metadata": {},
   "outputs": [],
   "source": [
    "## Eva Matrix testing"
   ]
  },
  {
   "cell_type": "code",
   "execution_count": 341,
   "id": "68759a00",
   "metadata": {},
   "outputs": [],
   "source": [
    "LR_Acc_ts, LR_Rec_ts, LR_Prec_ts, LR_F1_ts = Eva_Matrix(model_LR, X_test, y_test)"
   ]
  },
  {
   "cell_type": "code",
   "execution_count": 342,
   "id": "b6808aa2",
   "metadata": {},
   "outputs": [
    {
     "data": {
      "text/html": [
       "<div>\n",
       "<style scoped>\n",
       "    .dataframe tbody tr th:only-of-type {\n",
       "        vertical-align: middle;\n",
       "    }\n",
       "\n",
       "    .dataframe tbody tr th {\n",
       "        vertical-align: top;\n",
       "    }\n",
       "\n",
       "    .dataframe thead th {\n",
       "        text-align: right;\n",
       "    }\n",
       "</style>\n",
       "<table border=\"1\" class=\"dataframe\">\n",
       "  <thead>\n",
       "    <tr style=\"text-align: right;\">\n",
       "      <th></th>\n",
       "      <th>LogReg Train</th>\n",
       "      <th>LogReg Test</th>\n",
       "    </tr>\n",
       "  </thead>\n",
       "  <tbody>\n",
       "    <tr>\n",
       "      <th>Accuracy</th>\n",
       "      <td>0.803371</td>\n",
       "      <td>0.810056</td>\n",
       "    </tr>\n",
       "    <tr>\n",
       "      <th>Recall</th>\n",
       "      <td>0.710623</td>\n",
       "      <td>0.681159</td>\n",
       "    </tr>\n",
       "    <tr>\n",
       "      <th>Precision</th>\n",
       "      <td>0.760784</td>\n",
       "      <td>0.796610</td>\n",
       "    </tr>\n",
       "    <tr>\n",
       "      <th>F1</th>\n",
       "      <td>0.734848</td>\n",
       "      <td>0.734375</td>\n",
       "    </tr>\n",
       "  </tbody>\n",
       "</table>\n",
       "</div>"
      ],
      "text/plain": [
       "           LogReg Train   LogReg Test\n",
       "Accuracy        0.803371     0.810056\n",
       "Recall          0.710623     0.681159\n",
       "Precision       0.760784     0.796610\n",
       "F1              0.734848     0.734375"
      ]
     },
     "execution_count": 342,
     "metadata": {},
     "output_type": "execute_result"
    }
   ],
   "source": [
    "data_LR = {\n",
    "    \"LogReg Train \" : [LR_Acc_tr, LR_Rec_tr, LR_Prec_tr, LR_F1_tr],\n",
    "    \"LogReg Test\" : [LR_Acc_ts, LR_Rec_ts, LR_Prec_ts, LR_F1_ts]\n",
    "}\n",
    "pd.DataFrame(data_LR, index=[\"Accuracy\",\"Recall\",\"Precision\",\"F1\"])"
   ]
  },
  {
   "cell_type": "code",
   "execution_count": 292,
   "id": "cbb0f6be",
   "metadata": {},
   "outputs": [],
   "source": [
    "def Eva_Matrix_Base_Class(model, X_train, X_test, y_train, y_test, Nama):\n",
    "    Model = model.fit(X_train, y_train)\n",
    "    y_pred_train = Model.predict(X_train)\n",
    "    Acc_train = accuracy_score(y_train, y_pred_train)\n",
    "    Rec_train = recall_score(y_train, y_pred_train)\n",
    "    Prec_train = precision_score(y_train, y_pred_train)\n",
    "    F1_train = f1_score(y_train, y_pred_train)\n",
    "    y_pred_test = Model.predict(X_test)\n",
    "    Acc_test = accuracy_score(y_test, y_pred_test)\n",
    "    Rec_test = recall_score(y_test, y_pred_test)\n",
    "    Prec_test = precision_score(y_test, y_pred_test)\n",
    "    F1_test = f1_score(y_test, y_pred_test)\n",
    "    data_LR = {\n",
    "    \"LogReg Train \" : [LR_Acc_tr, LR_Rec_tr, LR_Prec_tr, F1_train],\n",
    "    \"LogReg Test\" : [LR_Acc_ts, LR_Rec_ts, LR_Prec_ts, F1_test]\n",
    "}\n",
    "    \n",
    "    df_LR = pd.DataFrame(data_LR, index=[\"Accuracy\",\"Recall\",\"Precision\",\"F1\"])\n",
    "    return df_LR"
   ]
  },
  {
   "cell_type": "code",
   "execution_count": 293,
   "id": "a284f53f",
   "metadata": {},
   "outputs": [],
   "source": [
    "## Improvement Model"
   ]
  },
  {
   "cell_type": "code",
   "execution_count": 294,
   "id": "3f03694e",
   "metadata": {},
   "outputs": [],
   "source": [
    "## 1. Melalui data"
   ]
  },
  {
   "cell_type": "code",
   "execution_count": 295,
   "id": "eede231f",
   "metadata": {},
   "outputs": [],
   "source": [
    "## Adding - modify feature"
   ]
  },
  {
   "cell_type": "code",
   "execution_count": 296,
   "id": "4e988cd5",
   "metadata": {},
   "outputs": [
    {
     "data": {
      "text/html": [
       "<div>\n",
       "<style scoped>\n",
       "    .dataframe tbody tr th:only-of-type {\n",
       "        vertical-align: middle;\n",
       "    }\n",
       "\n",
       "    .dataframe tbody tr th {\n",
       "        vertical-align: top;\n",
       "    }\n",
       "\n",
       "    .dataframe thead th {\n",
       "        text-align: right;\n",
       "    }\n",
       "</style>\n",
       "<table border=\"1\" class=\"dataframe\">\n",
       "  <thead>\n",
       "    <tr style=\"text-align: right;\">\n",
       "      <th></th>\n",
       "      <th>PassengerId</th>\n",
       "      <th>Survived</th>\n",
       "      <th>Pclass</th>\n",
       "      <th>Name</th>\n",
       "      <th>Sex</th>\n",
       "      <th>Age</th>\n",
       "      <th>SibSp</th>\n",
       "      <th>Parch</th>\n",
       "      <th>Ticket</th>\n",
       "      <th>Fare</th>\n",
       "      <th>...</th>\n",
       "      <th>WikiId</th>\n",
       "      <th>Name_wiki</th>\n",
       "      <th>Age_wiki</th>\n",
       "      <th>Hometown</th>\n",
       "      <th>Boarded</th>\n",
       "      <th>Destination</th>\n",
       "      <th>age_bin</th>\n",
       "      <th>title</th>\n",
       "      <th>isAlone</th>\n",
       "      <th>bin_fare</th>\n",
       "    </tr>\n",
       "  </thead>\n",
       "  <tbody>\n",
       "    <tr>\n",
       "      <th>0</th>\n",
       "      <td>1</td>\n",
       "      <td>0.0</td>\n",
       "      <td>3</td>\n",
       "      <td>Braund, Mr. Owen Harris</td>\n",
       "      <td>male</td>\n",
       "      <td>22.0</td>\n",
       "      <td>1</td>\n",
       "      <td>0</td>\n",
       "      <td>A/5 21171</td>\n",
       "      <td>7.2500</td>\n",
       "      <td>...</td>\n",
       "      <td>691.0</td>\n",
       "      <td>Braund, Mr. Owen Harris</td>\n",
       "      <td>22.0</td>\n",
       "      <td>Bridgerule, Devon, England</td>\n",
       "      <td>Southampton</td>\n",
       "      <td>Qu'Appelle Valley, Saskatchewan, Canada</td>\n",
       "      <td>Adult</td>\n",
       "      <td>Mr</td>\n",
       "      <td>0</td>\n",
       "      <td>Murah</td>\n",
       "    </tr>\n",
       "    <tr>\n",
       "      <th>1</th>\n",
       "      <td>2</td>\n",
       "      <td>1.0</td>\n",
       "      <td>1</td>\n",
       "      <td>Cumings, Mrs. John Bradley (Florence Briggs Th...</td>\n",
       "      <td>female</td>\n",
       "      <td>38.0</td>\n",
       "      <td>1</td>\n",
       "      <td>0</td>\n",
       "      <td>PC 17599</td>\n",
       "      <td>71.2833</td>\n",
       "      <td>...</td>\n",
       "      <td>90.0</td>\n",
       "      <td>Cumings, Mrs. Florence Briggs (née Thayer)</td>\n",
       "      <td>35.0</td>\n",
       "      <td>New York, New York, US</td>\n",
       "      <td>Cherbourg</td>\n",
       "      <td>New York, New York, US</td>\n",
       "      <td>Adult</td>\n",
       "      <td>Mrs</td>\n",
       "      <td>0</td>\n",
       "      <td>Murah</td>\n",
       "    </tr>\n",
       "    <tr>\n",
       "      <th>2</th>\n",
       "      <td>3</td>\n",
       "      <td>1.0</td>\n",
       "      <td>3</td>\n",
       "      <td>Heikkinen, Miss. Laina</td>\n",
       "      <td>female</td>\n",
       "      <td>26.0</td>\n",
       "      <td>0</td>\n",
       "      <td>0</td>\n",
       "      <td>STON/O2. 3101282</td>\n",
       "      <td>7.9250</td>\n",
       "      <td>...</td>\n",
       "      <td>865.0</td>\n",
       "      <td>Heikkinen, Miss Laina</td>\n",
       "      <td>26.0</td>\n",
       "      <td>Jyväskylä, Finland</td>\n",
       "      <td>Southampton</td>\n",
       "      <td>New York City</td>\n",
       "      <td>Adult</td>\n",
       "      <td>Miss</td>\n",
       "      <td>1</td>\n",
       "      <td>Murah</td>\n",
       "    </tr>\n",
       "    <tr>\n",
       "      <th>3</th>\n",
       "      <td>4</td>\n",
       "      <td>1.0</td>\n",
       "      <td>1</td>\n",
       "      <td>Futrelle, Mrs. Jacques Heath (Lily May Peel)</td>\n",
       "      <td>female</td>\n",
       "      <td>35.0</td>\n",
       "      <td>1</td>\n",
       "      <td>0</td>\n",
       "      <td>113803</td>\n",
       "      <td>53.1000</td>\n",
       "      <td>...</td>\n",
       "      <td>127.0</td>\n",
       "      <td>Futrelle, Mrs. Lily May (née Peel)</td>\n",
       "      <td>35.0</td>\n",
       "      <td>Scituate, Massachusetts, US</td>\n",
       "      <td>Southampton</td>\n",
       "      <td>Scituate, Massachusetts, US</td>\n",
       "      <td>Adult</td>\n",
       "      <td>Mrs</td>\n",
       "      <td>0</td>\n",
       "      <td>Murah</td>\n",
       "    </tr>\n",
       "    <tr>\n",
       "      <th>4</th>\n",
       "      <td>5</td>\n",
       "      <td>0.0</td>\n",
       "      <td>3</td>\n",
       "      <td>Allen, Mr. William Henry</td>\n",
       "      <td>male</td>\n",
       "      <td>35.0</td>\n",
       "      <td>0</td>\n",
       "      <td>0</td>\n",
       "      <td>373450</td>\n",
       "      <td>8.0500</td>\n",
       "      <td>...</td>\n",
       "      <td>627.0</td>\n",
       "      <td>Allen, Mr. William Henry</td>\n",
       "      <td>35.0</td>\n",
       "      <td>Birmingham, West Midlands, England</td>\n",
       "      <td>Southampton</td>\n",
       "      <td>New York City</td>\n",
       "      <td>Adult</td>\n",
       "      <td>Mr</td>\n",
       "      <td>1</td>\n",
       "      <td>Murah</td>\n",
       "    </tr>\n",
       "  </tbody>\n",
       "</table>\n",
       "<p>5 rows × 21 columns</p>\n",
       "</div>"
      ],
      "text/plain": [
       "   PassengerId  Survived  Pclass  \\\n",
       "0            1       0.0       3   \n",
       "1            2       1.0       1   \n",
       "2            3       1.0       3   \n",
       "3            4       1.0       1   \n",
       "4            5       0.0       3   \n",
       "\n",
       "                                                Name     Sex   Age  SibSp  \\\n",
       "0                            Braund, Mr. Owen Harris    male  22.0      1   \n",
       "1  Cumings, Mrs. John Bradley (Florence Briggs Th...  female  38.0      1   \n",
       "2                             Heikkinen, Miss. Laina  female  26.0      0   \n",
       "3       Futrelle, Mrs. Jacques Heath (Lily May Peel)  female  35.0      1   \n",
       "4                           Allen, Mr. William Henry    male  35.0      0   \n",
       "\n",
       "   Parch            Ticket     Fare  ... WikiId  \\\n",
       "0      0         A/5 21171   7.2500  ...  691.0   \n",
       "1      0          PC 17599  71.2833  ...   90.0   \n",
       "2      0  STON/O2. 3101282   7.9250  ...  865.0   \n",
       "3      0            113803  53.1000  ...  127.0   \n",
       "4      0            373450   8.0500  ...  627.0   \n",
       "\n",
       "                                    Name_wiki Age_wiki  \\\n",
       "0                     Braund, Mr. Owen Harris     22.0   \n",
       "1  Cumings, Mrs. Florence Briggs (née Thayer)     35.0   \n",
       "2                       Heikkinen, Miss Laina     26.0   \n",
       "3          Futrelle, Mrs. Lily May (née Peel)     35.0   \n",
       "4                    Allen, Mr. William Henry     35.0   \n",
       "\n",
       "                             Hometown      Boarded  \\\n",
       "0          Bridgerule, Devon, England  Southampton   \n",
       "1              New York, New York, US    Cherbourg   \n",
       "2                  Jyväskylä, Finland  Southampton   \n",
       "3         Scituate, Massachusetts, US  Southampton   \n",
       "4  Birmingham, West Midlands, England  Southampton   \n",
       "\n",
       "                               Destination age_bin title isAlone  bin_fare  \n",
       "0  Qu'Appelle Valley, Saskatchewan, Canada   Adult    Mr       0     Murah  \n",
       "1                   New York, New York, US   Adult   Mrs       0     Murah  \n",
       "2                            New York City   Adult  Miss       1     Murah  \n",
       "3              Scituate, Massachusetts, US   Adult   Mrs       0     Murah  \n",
       "4                            New York City   Adult    Mr       1     Murah  \n",
       "\n",
       "[5 rows x 21 columns]"
      ]
     },
     "execution_count": 296,
     "metadata": {},
     "output_type": "execute_result"
    }
   ],
   "source": [
    "df.head()"
   ]
  },
  {
   "cell_type": "markdown",
   "id": "2bba7398",
   "metadata": {},
   "source": [
    "Melakukan ekstraksi dr kolom nama 'Mr'"
   ]
  },
  {
   "cell_type": "code",
   "execution_count": 297,
   "id": "d5ff8286",
   "metadata": {},
   "outputs": [],
   "source": [
    "nama = \"Braund, Mr. Owen Harris\""
   ]
  },
  {
   "cell_type": "code",
   "execution_count": 298,
   "id": "f59018c2",
   "metadata": {},
   "outputs": [
    {
     "data": {
      "text/plain": [
       "['Braund', 'Mr. Owen Harris']"
      ]
     },
     "execution_count": 298,
     "metadata": {},
     "output_type": "execute_result"
    }
   ],
   "source": [
    "nama.split(', ')"
   ]
  },
  {
   "cell_type": "code",
   "execution_count": 299,
   "id": "8d500bdf",
   "metadata": {},
   "outputs": [
    {
     "data": {
      "text/plain": [
       "'Mr. Owen Harris'"
      ]
     },
     "execution_count": 299,
     "metadata": {},
     "output_type": "execute_result"
    }
   ],
   "source": [
    "nama.split(', ')[1]"
   ]
  },
  {
   "cell_type": "code",
   "execution_count": 300,
   "id": "0ea54fc8",
   "metadata": {},
   "outputs": [
    {
     "data": {
      "text/plain": [
       "'Mr'"
      ]
     },
     "execution_count": 300,
     "metadata": {},
     "output_type": "execute_result"
    }
   ],
   "source": [
    "nama.split(', ')[1].split('.')[0]"
   ]
  },
  {
   "cell_type": "code",
   "execution_count": 301,
   "id": "a4806bf9",
   "metadata": {},
   "outputs": [
    {
     "data": {
      "text/plain": [
       "0        Mr\n",
       "1       Mrs\n",
       "2      Miss\n",
       "3       Mrs\n",
       "4        Mr\n",
       "       ... \n",
       "886     Rev\n",
       "887    Miss\n",
       "888    Miss\n",
       "889      Mr\n",
       "890      Mr\n",
       "Name: Name, Length: 891, dtype: object"
      ]
     },
     "execution_count": 301,
     "metadata": {},
     "output_type": "execute_result"
    }
   ],
   "source": [
    "df['Name'].apply(lambda x: x.split(', ')[1].split('.')[0] )"
   ]
  },
  {
   "cell_type": "code",
   "execution_count": 302,
   "id": "11ca1a27",
   "metadata": {},
   "outputs": [],
   "source": [
    "df['title'] = df['Name'].apply(lambda x: x.split(', ')[1].split('.')[0])"
   ]
  },
  {
   "cell_type": "code",
   "execution_count": 303,
   "id": "8ef6ee93",
   "metadata": {},
   "outputs": [
    {
     "data": {
      "text/plain": [
       "Mr              517\n",
       "Miss            182\n",
       "Mrs             125\n",
       "Master           40\n",
       "Dr                7\n",
       "Rev               6\n",
       "Mlle              2\n",
       "Major             2\n",
       "Col               2\n",
       "the Countess      1\n",
       "Capt              1\n",
       "Ms                1\n",
       "Sir               1\n",
       "Lady              1\n",
       "Mme               1\n",
       "Don               1\n",
       "Jonkheer          1\n",
       "Name: title, dtype: int64"
      ]
     },
     "execution_count": 303,
     "metadata": {},
     "output_type": "execute_result"
    }
   ],
   "source": [
    "df['title'].value_counts()"
   ]
  },
  {
   "cell_type": "markdown",
   "id": "196d1b09",
   "metadata": {},
   "source": [
    "kita mau gabungin"
   ]
  },
  {
   "cell_type": "code",
   "execution_count": 304,
   "id": "c662f34b",
   "metadata": {},
   "outputs": [],
   "source": [
    "def modif_title(x):\n",
    "    if x in ['Mr','Miss','Mrs','Master']:\n",
    "        return x\n",
    "    else:\n",
    "        return 'Other'"
   ]
  },
  {
   "cell_type": "code",
   "execution_count": 305,
   "id": "1db0c90b",
   "metadata": {},
   "outputs": [
    {
     "data": {
      "text/plain": [
       "0         Mr\n",
       "1        Mrs\n",
       "2       Miss\n",
       "3        Mrs\n",
       "4         Mr\n",
       "       ...  \n",
       "886    Other\n",
       "887     Miss\n",
       "888     Miss\n",
       "889       Mr\n",
       "890       Mr\n",
       "Name: title, Length: 891, dtype: object"
      ]
     },
     "execution_count": 305,
     "metadata": {},
     "output_type": "execute_result"
    }
   ],
   "source": [
    "df['title'].apply(modif_title)"
   ]
  },
  {
   "cell_type": "code",
   "execution_count": 306,
   "id": "71194a17",
   "metadata": {},
   "outputs": [],
   "source": [
    "df['title'] = df['title'].apply(modif_title)\n",
    "# kita masukin"
   ]
  },
  {
   "cell_type": "code",
   "execution_count": 307,
   "id": "4f7f735a",
   "metadata": {},
   "outputs": [
    {
     "data": {
      "text/plain": [
       "Mr        517\n",
       "Miss      182\n",
       "Mrs       125\n",
       "Master     40\n",
       "Other      27\n",
       "Name: title, dtype: int64"
      ]
     },
     "execution_count": 307,
     "metadata": {},
     "output_type": "execute_result"
    }
   ],
   "source": [
    "df['title'].value_counts()"
   ]
  },
  {
   "cell_type": "code",
   "execution_count": 308,
   "id": "c444d7bd",
   "metadata": {},
   "outputs": [
    {
     "data": {
      "text/html": [
       "<div>\n",
       "<style scoped>\n",
       "    .dataframe tbody tr th:only-of-type {\n",
       "        vertical-align: middle;\n",
       "    }\n",
       "\n",
       "    .dataframe tbody tr th {\n",
       "        vertical-align: top;\n",
       "    }\n",
       "\n",
       "    .dataframe thead th {\n",
       "        text-align: right;\n",
       "    }\n",
       "</style>\n",
       "<table border=\"1\" class=\"dataframe\">\n",
       "  <thead>\n",
       "    <tr style=\"text-align: right;\">\n",
       "      <th></th>\n",
       "      <th>PassengerId</th>\n",
       "      <th>Survived</th>\n",
       "      <th>Pclass</th>\n",
       "      <th>Name</th>\n",
       "      <th>Sex</th>\n",
       "      <th>Age</th>\n",
       "      <th>SibSp</th>\n",
       "      <th>Parch</th>\n",
       "      <th>Ticket</th>\n",
       "      <th>Fare</th>\n",
       "      <th>...</th>\n",
       "      <th>WikiId</th>\n",
       "      <th>Name_wiki</th>\n",
       "      <th>Age_wiki</th>\n",
       "      <th>Hometown</th>\n",
       "      <th>Boarded</th>\n",
       "      <th>Destination</th>\n",
       "      <th>age_bin</th>\n",
       "      <th>title</th>\n",
       "      <th>isAlone</th>\n",
       "      <th>bin_fare</th>\n",
       "    </tr>\n",
       "  </thead>\n",
       "  <tbody>\n",
       "    <tr>\n",
       "      <th>0</th>\n",
       "      <td>1</td>\n",
       "      <td>0.0</td>\n",
       "      <td>3</td>\n",
       "      <td>Braund, Mr. Owen Harris</td>\n",
       "      <td>male</td>\n",
       "      <td>22.0</td>\n",
       "      <td>1</td>\n",
       "      <td>0</td>\n",
       "      <td>A/5 21171</td>\n",
       "      <td>7.2500</td>\n",
       "      <td>...</td>\n",
       "      <td>691.0</td>\n",
       "      <td>Braund, Mr. Owen Harris</td>\n",
       "      <td>22.0</td>\n",
       "      <td>Bridgerule, Devon, England</td>\n",
       "      <td>Southampton</td>\n",
       "      <td>Qu'Appelle Valley, Saskatchewan, Canada</td>\n",
       "      <td>Adult</td>\n",
       "      <td>Mr</td>\n",
       "      <td>0</td>\n",
       "      <td>Murah</td>\n",
       "    </tr>\n",
       "    <tr>\n",
       "      <th>1</th>\n",
       "      <td>2</td>\n",
       "      <td>1.0</td>\n",
       "      <td>1</td>\n",
       "      <td>Cumings, Mrs. John Bradley (Florence Briggs Th...</td>\n",
       "      <td>female</td>\n",
       "      <td>38.0</td>\n",
       "      <td>1</td>\n",
       "      <td>0</td>\n",
       "      <td>PC 17599</td>\n",
       "      <td>71.2833</td>\n",
       "      <td>...</td>\n",
       "      <td>90.0</td>\n",
       "      <td>Cumings, Mrs. Florence Briggs (née Thayer)</td>\n",
       "      <td>35.0</td>\n",
       "      <td>New York, New York, US</td>\n",
       "      <td>Cherbourg</td>\n",
       "      <td>New York, New York, US</td>\n",
       "      <td>Adult</td>\n",
       "      <td>Mrs</td>\n",
       "      <td>0</td>\n",
       "      <td>Murah</td>\n",
       "    </tr>\n",
       "    <tr>\n",
       "      <th>2</th>\n",
       "      <td>3</td>\n",
       "      <td>1.0</td>\n",
       "      <td>3</td>\n",
       "      <td>Heikkinen, Miss. Laina</td>\n",
       "      <td>female</td>\n",
       "      <td>26.0</td>\n",
       "      <td>0</td>\n",
       "      <td>0</td>\n",
       "      <td>STON/O2. 3101282</td>\n",
       "      <td>7.9250</td>\n",
       "      <td>...</td>\n",
       "      <td>865.0</td>\n",
       "      <td>Heikkinen, Miss Laina</td>\n",
       "      <td>26.0</td>\n",
       "      <td>Jyväskylä, Finland</td>\n",
       "      <td>Southampton</td>\n",
       "      <td>New York City</td>\n",
       "      <td>Adult</td>\n",
       "      <td>Miss</td>\n",
       "      <td>1</td>\n",
       "      <td>Murah</td>\n",
       "    </tr>\n",
       "    <tr>\n",
       "      <th>3</th>\n",
       "      <td>4</td>\n",
       "      <td>1.0</td>\n",
       "      <td>1</td>\n",
       "      <td>Futrelle, Mrs. Jacques Heath (Lily May Peel)</td>\n",
       "      <td>female</td>\n",
       "      <td>35.0</td>\n",
       "      <td>1</td>\n",
       "      <td>0</td>\n",
       "      <td>113803</td>\n",
       "      <td>53.1000</td>\n",
       "      <td>...</td>\n",
       "      <td>127.0</td>\n",
       "      <td>Futrelle, Mrs. Lily May (née Peel)</td>\n",
       "      <td>35.0</td>\n",
       "      <td>Scituate, Massachusetts, US</td>\n",
       "      <td>Southampton</td>\n",
       "      <td>Scituate, Massachusetts, US</td>\n",
       "      <td>Adult</td>\n",
       "      <td>Mrs</td>\n",
       "      <td>0</td>\n",
       "      <td>Murah</td>\n",
       "    </tr>\n",
       "    <tr>\n",
       "      <th>4</th>\n",
       "      <td>5</td>\n",
       "      <td>0.0</td>\n",
       "      <td>3</td>\n",
       "      <td>Allen, Mr. William Henry</td>\n",
       "      <td>male</td>\n",
       "      <td>35.0</td>\n",
       "      <td>0</td>\n",
       "      <td>0</td>\n",
       "      <td>373450</td>\n",
       "      <td>8.0500</td>\n",
       "      <td>...</td>\n",
       "      <td>627.0</td>\n",
       "      <td>Allen, Mr. William Henry</td>\n",
       "      <td>35.0</td>\n",
       "      <td>Birmingham, West Midlands, England</td>\n",
       "      <td>Southampton</td>\n",
       "      <td>New York City</td>\n",
       "      <td>Adult</td>\n",
       "      <td>Mr</td>\n",
       "      <td>1</td>\n",
       "      <td>Murah</td>\n",
       "    </tr>\n",
       "  </tbody>\n",
       "</table>\n",
       "<p>5 rows × 21 columns</p>\n",
       "</div>"
      ],
      "text/plain": [
       "   PassengerId  Survived  Pclass  \\\n",
       "0            1       0.0       3   \n",
       "1            2       1.0       1   \n",
       "2            3       1.0       3   \n",
       "3            4       1.0       1   \n",
       "4            5       0.0       3   \n",
       "\n",
       "                                                Name     Sex   Age  SibSp  \\\n",
       "0                            Braund, Mr. Owen Harris    male  22.0      1   \n",
       "1  Cumings, Mrs. John Bradley (Florence Briggs Th...  female  38.0      1   \n",
       "2                             Heikkinen, Miss. Laina  female  26.0      0   \n",
       "3       Futrelle, Mrs. Jacques Heath (Lily May Peel)  female  35.0      1   \n",
       "4                           Allen, Mr. William Henry    male  35.0      0   \n",
       "\n",
       "   Parch            Ticket     Fare  ... WikiId  \\\n",
       "0      0         A/5 21171   7.2500  ...  691.0   \n",
       "1      0          PC 17599  71.2833  ...   90.0   \n",
       "2      0  STON/O2. 3101282   7.9250  ...  865.0   \n",
       "3      0            113803  53.1000  ...  127.0   \n",
       "4      0            373450   8.0500  ...  627.0   \n",
       "\n",
       "                                    Name_wiki Age_wiki  \\\n",
       "0                     Braund, Mr. Owen Harris     22.0   \n",
       "1  Cumings, Mrs. Florence Briggs (née Thayer)     35.0   \n",
       "2                       Heikkinen, Miss Laina     26.0   \n",
       "3          Futrelle, Mrs. Lily May (née Peel)     35.0   \n",
       "4                    Allen, Mr. William Henry     35.0   \n",
       "\n",
       "                             Hometown      Boarded  \\\n",
       "0          Bridgerule, Devon, England  Southampton   \n",
       "1              New York, New York, US    Cherbourg   \n",
       "2                  Jyväskylä, Finland  Southampton   \n",
       "3         Scituate, Massachusetts, US  Southampton   \n",
       "4  Birmingham, West Midlands, England  Southampton   \n",
       "\n",
       "                               Destination age_bin title isAlone  bin_fare  \n",
       "0  Qu'Appelle Valley, Saskatchewan, Canada   Adult    Mr       0     Murah  \n",
       "1                   New York, New York, US   Adult   Mrs       0     Murah  \n",
       "2                            New York City   Adult  Miss       1     Murah  \n",
       "3              Scituate, Massachusetts, US   Adult   Mrs       0     Murah  \n",
       "4                            New York City   Adult    Mr       1     Murah  \n",
       "\n",
       "[5 rows x 21 columns]"
      ]
     },
     "execution_count": 308,
     "metadata": {},
     "output_type": "execute_result"
    }
   ],
   "source": [
    "df.head()"
   ]
  },
  {
   "cell_type": "code",
   "execution_count": 309,
   "id": "d11d3be2",
   "metadata": {},
   "outputs": [],
   "source": [
    "df['isAlone'] = (df['SibSp'] == 0) & (df['Parch'] == 0)"
   ]
  },
  {
   "cell_type": "code",
   "execution_count": 310,
   "id": "72ac3b90",
   "metadata": {},
   "outputs": [],
   "source": [
    "df['isAlone'] = df['isAlone'].astype('int')"
   ]
  },
  {
   "cell_type": "code",
   "execution_count": 311,
   "id": "ad5bede9",
   "metadata": {},
   "outputs": [
    {
     "data": {
      "text/plain": [
       "512.3292"
      ]
     },
     "execution_count": 311,
     "metadata": {},
     "output_type": "execute_result"
    }
   ],
   "source": [
    "df['Fare'].max()"
   ]
  },
  {
   "cell_type": "code",
   "execution_count": 312,
   "id": "0c9a0daf",
   "metadata": {},
   "outputs": [
    {
     "data": {
      "text/plain": [
       "0.0"
      ]
     },
     "execution_count": 312,
     "metadata": {},
     "output_type": "execute_result"
    }
   ],
   "source": [
    "df['Fare'].min()"
   ]
  },
  {
   "cell_type": "code",
   "execution_count": 313,
   "id": "788c6f49",
   "metadata": {},
   "outputs": [],
   "source": [
    "label_fare = ['Murah','Sedang','Mahal','Premium']"
   ]
  },
  {
   "cell_type": "code",
   "execution_count": 314,
   "id": "157726b6",
   "metadata": {},
   "outputs": [
    {
     "data": {
      "text/plain": [
       "0      Murah\n",
       "1      Murah\n",
       "2      Murah\n",
       "3      Murah\n",
       "4      Murah\n",
       "       ...  \n",
       "886    Murah\n",
       "887    Murah\n",
       "888    Murah\n",
       "889    Murah\n",
       "890    Murah\n",
       "Name: Fare, Length: 891, dtype: category\n",
       "Categories (4, object): ['Murah' < 'Sedang' < 'Mahal' < 'Premium']"
      ]
     },
     "execution_count": 314,
     "metadata": {},
     "output_type": "execute_result"
    }
   ],
   "source": [
    "pd.cut(df['Fare'], bins=4, labels=label_fare)"
   ]
  },
  {
   "cell_type": "code",
   "execution_count": 315,
   "id": "ec5416e8",
   "metadata": {},
   "outputs": [],
   "source": [
    "df['bin_fare'] = pd.cut(df['Fare'], bins=4, labels=label_fare)"
   ]
  },
  {
   "cell_type": "code",
   "execution_count": 316,
   "id": "8e56432c",
   "metadata": {},
   "outputs": [
    {
     "data": {
      "text/plain": [
       "PassengerId      0\n",
       "Survived         0\n",
       "Pclass           0\n",
       "Name             0\n",
       "Sex              0\n",
       "Age            177\n",
       "SibSp            0\n",
       "Parch            0\n",
       "Ticket           0\n",
       "Fare             0\n",
       "Embarked         0\n",
       "WikiId           2\n",
       "Name_wiki        2\n",
       "Age_wiki         0\n",
       "Hometown         2\n",
       "Boarded          2\n",
       "Destination      2\n",
       "age_bin          0\n",
       "title            0\n",
       "isAlone          0\n",
       "bin_fare         0\n",
       "dtype: int64"
      ]
     },
     "execution_count": 316,
     "metadata": {},
     "output_type": "execute_result"
    }
   ],
   "source": [
    "df.isna().sum()"
   ]
  },
  {
   "cell_type": "code",
   "execution_count": 317,
   "id": "0df32eb7",
   "metadata": {},
   "outputs": [],
   "source": [
    "## Handling NA"
   ]
  },
  {
   "cell_type": "code",
   "execution_count": 318,
   "id": "e193501e",
   "metadata": {},
   "outputs": [],
   "source": [
    "df['Age_wiki'] = df['Age_wiki'].fillna(df['Age_wiki'].mean())"
   ]
  },
  {
   "cell_type": "code",
   "execution_count": 319,
   "id": "0c31917c",
   "metadata": {},
   "outputs": [],
   "source": [
    "df['Embarked'] = df['Embarked'].fillna('S')"
   ]
  },
  {
   "cell_type": "code",
   "execution_count": 320,
   "id": "f36880c4",
   "metadata": {},
   "outputs": [
    {
     "data": {
      "text/plain": [
       "Index(['PassengerId', 'Survived', 'Pclass', 'Name', 'Sex', 'Age', 'SibSp',\n",
       "       'Parch', 'Ticket', 'Fare', 'Embarked', 'WikiId', 'Name_wiki',\n",
       "       'Age_wiki', 'Hometown', 'Boarded', 'Destination', 'age_bin', 'title',\n",
       "       'isAlone', 'bin_fare'],\n",
       "      dtype='object')"
      ]
     },
     "execution_count": 320,
     "metadata": {},
     "output_type": "execute_result"
    }
   ],
   "source": [
    "df.columns"
   ]
  },
  {
   "cell_type": "code",
   "execution_count": 321,
   "id": "964760ef",
   "metadata": {},
   "outputs": [],
   "source": [
    "## Feature Selection"
   ]
  },
  {
   "cell_type": "code",
   "execution_count": 322,
   "id": "8840cbae",
   "metadata": {},
   "outputs": [],
   "source": [
    "df_2 = df[['Survived','Pclass','Sex','Embarked','title','isAlone',\n",
    "          'bin_fare','age_bin']]"
   ]
  },
  {
   "cell_type": "code",
   "execution_count": 323,
   "id": "a6d32c6f",
   "metadata": {},
   "outputs": [],
   "source": [
    "## Data Preparation"
   ]
  },
  {
   "cell_type": "code",
   "execution_count": 324,
   "id": "61f214ca",
   "metadata": {},
   "outputs": [
    {
     "data": {
      "text/html": [
       "<div>\n",
       "<style scoped>\n",
       "    .dataframe tbody tr th:only-of-type {\n",
       "        vertical-align: middle;\n",
       "    }\n",
       "\n",
       "    .dataframe tbody tr th {\n",
       "        vertical-align: top;\n",
       "    }\n",
       "\n",
       "    .dataframe thead th {\n",
       "        text-align: right;\n",
       "    }\n",
       "</style>\n",
       "<table border=\"1\" class=\"dataframe\">\n",
       "  <thead>\n",
       "    <tr style=\"text-align: right;\">\n",
       "      <th></th>\n",
       "      <th>Survived</th>\n",
       "      <th>Pclass</th>\n",
       "      <th>Sex</th>\n",
       "      <th>Embarked</th>\n",
       "      <th>title</th>\n",
       "      <th>isAlone</th>\n",
       "      <th>bin_fare</th>\n",
       "      <th>age_bin</th>\n",
       "    </tr>\n",
       "  </thead>\n",
       "  <tbody>\n",
       "    <tr>\n",
       "      <th>0</th>\n",
       "      <td>0.0</td>\n",
       "      <td>3</td>\n",
       "      <td>male</td>\n",
       "      <td>S</td>\n",
       "      <td>Mr</td>\n",
       "      <td>0</td>\n",
       "      <td>Murah</td>\n",
       "      <td>Adult</td>\n",
       "    </tr>\n",
       "    <tr>\n",
       "      <th>1</th>\n",
       "      <td>1.0</td>\n",
       "      <td>1</td>\n",
       "      <td>female</td>\n",
       "      <td>C</td>\n",
       "      <td>Mrs</td>\n",
       "      <td>0</td>\n",
       "      <td>Murah</td>\n",
       "      <td>Adult</td>\n",
       "    </tr>\n",
       "    <tr>\n",
       "      <th>2</th>\n",
       "      <td>1.0</td>\n",
       "      <td>3</td>\n",
       "      <td>female</td>\n",
       "      <td>S</td>\n",
       "      <td>Miss</td>\n",
       "      <td>1</td>\n",
       "      <td>Murah</td>\n",
       "      <td>Adult</td>\n",
       "    </tr>\n",
       "    <tr>\n",
       "      <th>3</th>\n",
       "      <td>1.0</td>\n",
       "      <td>1</td>\n",
       "      <td>female</td>\n",
       "      <td>S</td>\n",
       "      <td>Mrs</td>\n",
       "      <td>0</td>\n",
       "      <td>Murah</td>\n",
       "      <td>Adult</td>\n",
       "    </tr>\n",
       "    <tr>\n",
       "      <th>4</th>\n",
       "      <td>0.0</td>\n",
       "      <td>3</td>\n",
       "      <td>male</td>\n",
       "      <td>S</td>\n",
       "      <td>Mr</td>\n",
       "      <td>1</td>\n",
       "      <td>Murah</td>\n",
       "      <td>Adult</td>\n",
       "    </tr>\n",
       "  </tbody>\n",
       "</table>\n",
       "</div>"
      ],
      "text/plain": [
       "   Survived  Pclass     Sex Embarked title  isAlone bin_fare age_bin\n",
       "0       0.0       3    male        S    Mr        0    Murah   Adult\n",
       "1       1.0       1  female        C   Mrs        0    Murah   Adult\n",
       "2       1.0       3  female        S  Miss        1    Murah   Adult\n",
       "3       1.0       1  female        S   Mrs        0    Murah   Adult\n",
       "4       0.0       3    male        S    Mr        1    Murah   Adult"
      ]
     },
     "execution_count": 324,
     "metadata": {},
     "output_type": "execute_result"
    }
   ],
   "source": [
    "df_2.head()"
   ]
  },
  {
   "cell_type": "code",
   "execution_count": 325,
   "id": "f0dc5cc4",
   "metadata": {},
   "outputs": [],
   "source": [
    "## Encoding"
   ]
  },
  {
   "cell_type": "code",
   "execution_count": 326,
   "id": "fa081313",
   "metadata": {},
   "outputs": [],
   "source": [
    "df_2['Sex'] = df_2['Sex'].map({'male' : 0, 'female' : 1})"
   ]
  },
  {
   "cell_type": "code",
   "execution_count": 327,
   "id": "a05d8fe1",
   "metadata": {},
   "outputs": [],
   "source": [
    "df_2['bin_fare'] = df_2['bin_fare'].map({'Murah' : 0, 'Sedang' : 1, 'Mahal' : 2, 'Premium' : 3\n",
    "})"
   ]
  },
  {
   "cell_type": "code",
   "execution_count": 328,
   "id": "d4ab0066",
   "metadata": {},
   "outputs": [],
   "source": [
    "df_2['age_bin'] = df_2['age_bin'].map({\n",
    "    'Kids' : 0, 'Teenager' : 1, 'Adult' : 2, 'Old' : 3\n",
    "})"
   ]
  },
  {
   "cell_type": "code",
   "execution_count": 329,
   "id": "3d865d9d",
   "metadata": {},
   "outputs": [],
   "source": [
    "df_2 = pd.get_dummies(df_2, columns=['Embarked', 'title'])\n",
    "# udah dirunning"
   ]
  },
  {
   "cell_type": "code",
   "execution_count": 330,
   "id": "6817aea7",
   "metadata": {},
   "outputs": [
    {
     "data": {
      "text/html": [
       "<div>\n",
       "<style scoped>\n",
       "    .dataframe tbody tr th:only-of-type {\n",
       "        vertical-align: middle;\n",
       "    }\n",
       "\n",
       "    .dataframe tbody tr th {\n",
       "        vertical-align: top;\n",
       "    }\n",
       "\n",
       "    .dataframe thead th {\n",
       "        text-align: right;\n",
       "    }\n",
       "</style>\n",
       "<table border=\"1\" class=\"dataframe\">\n",
       "  <thead>\n",
       "    <tr style=\"text-align: right;\">\n",
       "      <th></th>\n",
       "      <th>Survived</th>\n",
       "      <th>Pclass</th>\n",
       "      <th>Sex</th>\n",
       "      <th>isAlone</th>\n",
       "      <th>bin_fare</th>\n",
       "      <th>age_bin</th>\n",
       "      <th>Embarked_C</th>\n",
       "      <th>Embarked_Q</th>\n",
       "      <th>Embarked_S</th>\n",
       "      <th>title_Master</th>\n",
       "      <th>title_Miss</th>\n",
       "      <th>title_Mr</th>\n",
       "      <th>title_Mrs</th>\n",
       "      <th>title_Other</th>\n",
       "    </tr>\n",
       "  </thead>\n",
       "  <tbody>\n",
       "    <tr>\n",
       "      <th>0</th>\n",
       "      <td>0.0</td>\n",
       "      <td>3</td>\n",
       "      <td>0</td>\n",
       "      <td>0</td>\n",
       "      <td>0</td>\n",
       "      <td>2</td>\n",
       "      <td>0</td>\n",
       "      <td>0</td>\n",
       "      <td>1</td>\n",
       "      <td>0</td>\n",
       "      <td>0</td>\n",
       "      <td>1</td>\n",
       "      <td>0</td>\n",
       "      <td>0</td>\n",
       "    </tr>\n",
       "    <tr>\n",
       "      <th>1</th>\n",
       "      <td>1.0</td>\n",
       "      <td>1</td>\n",
       "      <td>1</td>\n",
       "      <td>0</td>\n",
       "      <td>0</td>\n",
       "      <td>2</td>\n",
       "      <td>1</td>\n",
       "      <td>0</td>\n",
       "      <td>0</td>\n",
       "      <td>0</td>\n",
       "      <td>0</td>\n",
       "      <td>0</td>\n",
       "      <td>1</td>\n",
       "      <td>0</td>\n",
       "    </tr>\n",
       "    <tr>\n",
       "      <th>2</th>\n",
       "      <td>1.0</td>\n",
       "      <td>3</td>\n",
       "      <td>1</td>\n",
       "      <td>1</td>\n",
       "      <td>0</td>\n",
       "      <td>2</td>\n",
       "      <td>0</td>\n",
       "      <td>0</td>\n",
       "      <td>1</td>\n",
       "      <td>0</td>\n",
       "      <td>1</td>\n",
       "      <td>0</td>\n",
       "      <td>0</td>\n",
       "      <td>0</td>\n",
       "    </tr>\n",
       "    <tr>\n",
       "      <th>3</th>\n",
       "      <td>1.0</td>\n",
       "      <td>1</td>\n",
       "      <td>1</td>\n",
       "      <td>0</td>\n",
       "      <td>0</td>\n",
       "      <td>2</td>\n",
       "      <td>0</td>\n",
       "      <td>0</td>\n",
       "      <td>1</td>\n",
       "      <td>0</td>\n",
       "      <td>0</td>\n",
       "      <td>0</td>\n",
       "      <td>1</td>\n",
       "      <td>0</td>\n",
       "    </tr>\n",
       "    <tr>\n",
       "      <th>4</th>\n",
       "      <td>0.0</td>\n",
       "      <td>3</td>\n",
       "      <td>0</td>\n",
       "      <td>1</td>\n",
       "      <td>0</td>\n",
       "      <td>2</td>\n",
       "      <td>0</td>\n",
       "      <td>0</td>\n",
       "      <td>1</td>\n",
       "      <td>0</td>\n",
       "      <td>0</td>\n",
       "      <td>1</td>\n",
       "      <td>0</td>\n",
       "      <td>0</td>\n",
       "    </tr>\n",
       "  </tbody>\n",
       "</table>\n",
       "</div>"
      ],
      "text/plain": [
       "   Survived  Pclass  Sex  isAlone bin_fare age_bin  Embarked_C  Embarked_Q  \\\n",
       "0       0.0       3    0        0        0       2           0           0   \n",
       "1       1.0       1    1        0        0       2           1           0   \n",
       "2       1.0       3    1        1        0       2           0           0   \n",
       "3       1.0       1    1        0        0       2           0           0   \n",
       "4       0.0       3    0        1        0       2           0           0   \n",
       "\n",
       "   Embarked_S  title_Master  title_Miss  title_Mr  title_Mrs  title_Other  \n",
       "0           1             0           0         1          0            0  \n",
       "1           0             0           0         0          1            0  \n",
       "2           1             0           1         0          0            0  \n",
       "3           1             0           0         0          1            0  \n",
       "4           1             0           0         1          0            0  "
      ]
     },
     "execution_count": 330,
     "metadata": {},
     "output_type": "execute_result"
    }
   ],
   "source": [
    "df_2.head()"
   ]
  },
  {
   "cell_type": "code",
   "execution_count": 331,
   "id": "bb3ba5a5",
   "metadata": {},
   "outputs": [],
   "source": [
    "## Re-Modelling"
   ]
  },
  {
   "cell_type": "code",
   "execution_count": 332,
   "id": "ab3a330c",
   "metadata": {},
   "outputs": [],
   "source": [
    "## Splitting Data"
   ]
  },
  {
   "cell_type": "code",
   "execution_count": 333,
   "id": "2cf0f4ed",
   "metadata": {},
   "outputs": [],
   "source": [
    "X_2 = df_2.drop(columns='Survived')\n",
    "y_2 = df_2['Survived']"
   ]
  },
  {
   "cell_type": "code",
   "execution_count": 334,
   "id": "2aeceafe",
   "metadata": {},
   "outputs": [],
   "source": [
    "X_train_2, X_test_2, y_train_2, y_test_2 = train_test_split(X_2, y_2, stratify = y_2, test_size=.20,\n",
    "                                                           random_state=42)"
   ]
  },
  {
   "cell_type": "code",
   "execution_count": 335,
   "id": "5a57c844",
   "metadata": {},
   "outputs": [
    {
     "data": {
      "text/html": [
       "<div>\n",
       "<style scoped>\n",
       "    .dataframe tbody tr th:only-of-type {\n",
       "        vertical-align: middle;\n",
       "    }\n",
       "\n",
       "    .dataframe tbody tr th {\n",
       "        vertical-align: top;\n",
       "    }\n",
       "\n",
       "    .dataframe thead th {\n",
       "        text-align: right;\n",
       "    }\n",
       "</style>\n",
       "<table border=\"1\" class=\"dataframe\">\n",
       "  <thead>\n",
       "    <tr style=\"text-align: right;\">\n",
       "      <th></th>\n",
       "      <th>Pclass</th>\n",
       "      <th>Sex</th>\n",
       "      <th>isAlone</th>\n",
       "      <th>bin_fare</th>\n",
       "      <th>age_bin</th>\n",
       "      <th>Embarked_C</th>\n",
       "      <th>Embarked_Q</th>\n",
       "      <th>Embarked_S</th>\n",
       "      <th>title_Master</th>\n",
       "      <th>title_Miss</th>\n",
       "      <th>title_Mr</th>\n",
       "      <th>title_Mrs</th>\n",
       "      <th>title_Other</th>\n",
       "    </tr>\n",
       "  </thead>\n",
       "  <tbody>\n",
       "    <tr>\n",
       "      <th>692</th>\n",
       "      <td>3</td>\n",
       "      <td>0</td>\n",
       "      <td>1</td>\n",
       "      <td>0</td>\n",
       "      <td>2</td>\n",
       "      <td>0</td>\n",
       "      <td>0</td>\n",
       "      <td>1</td>\n",
       "      <td>0</td>\n",
       "      <td>0</td>\n",
       "      <td>1</td>\n",
       "      <td>0</td>\n",
       "      <td>0</td>\n",
       "    </tr>\n",
       "    <tr>\n",
       "      <th>481</th>\n",
       "      <td>2</td>\n",
       "      <td>0</td>\n",
       "      <td>1</td>\n",
       "      <td>0</td>\n",
       "      <td>2</td>\n",
       "      <td>0</td>\n",
       "      <td>0</td>\n",
       "      <td>1</td>\n",
       "      <td>0</td>\n",
       "      <td>0</td>\n",
       "      <td>1</td>\n",
       "      <td>0</td>\n",
       "      <td>0</td>\n",
       "    </tr>\n",
       "    <tr>\n",
       "      <th>527</th>\n",
       "      <td>1</td>\n",
       "      <td>0</td>\n",
       "      <td>1</td>\n",
       "      <td>1</td>\n",
       "      <td>3</td>\n",
       "      <td>0</td>\n",
       "      <td>0</td>\n",
       "      <td>1</td>\n",
       "      <td>0</td>\n",
       "      <td>0</td>\n",
       "      <td>1</td>\n",
       "      <td>0</td>\n",
       "      <td>0</td>\n",
       "    </tr>\n",
       "    <tr>\n",
       "      <th>855</th>\n",
       "      <td>3</td>\n",
       "      <td>1</td>\n",
       "      <td>0</td>\n",
       "      <td>0</td>\n",
       "      <td>1</td>\n",
       "      <td>0</td>\n",
       "      <td>0</td>\n",
       "      <td>1</td>\n",
       "      <td>0</td>\n",
       "      <td>0</td>\n",
       "      <td>0</td>\n",
       "      <td>1</td>\n",
       "      <td>0</td>\n",
       "    </tr>\n",
       "    <tr>\n",
       "      <th>801</th>\n",
       "      <td>2</td>\n",
       "      <td>1</td>\n",
       "      <td>0</td>\n",
       "      <td>0</td>\n",
       "      <td>2</td>\n",
       "      <td>0</td>\n",
       "      <td>0</td>\n",
       "      <td>1</td>\n",
       "      <td>0</td>\n",
       "      <td>0</td>\n",
       "      <td>0</td>\n",
       "      <td>1</td>\n",
       "      <td>0</td>\n",
       "    </tr>\n",
       "  </tbody>\n",
       "</table>\n",
       "</div>"
      ],
      "text/plain": [
       "     Pclass  Sex  isAlone bin_fare age_bin  Embarked_C  Embarked_Q  \\\n",
       "692       3    0        1        0       2           0           0   \n",
       "481       2    0        1        0       2           0           0   \n",
       "527       1    0        1        1       3           0           0   \n",
       "855       3    1        0        0       1           0           0   \n",
       "801       2    1        0        0       2           0           0   \n",
       "\n",
       "     Embarked_S  title_Master  title_Miss  title_Mr  title_Mrs  title_Other  \n",
       "692           1             0           0         1          0            0  \n",
       "481           1             0           0         1          0            0  \n",
       "527           1             0           0         1          0            0  \n",
       "855           1             0           0         0          1            0  \n",
       "801           1             0           0         0          1            0  "
      ]
     },
     "execution_count": 335,
     "metadata": {},
     "output_type": "execute_result"
    }
   ],
   "source": [
    "X_train_2.head()"
   ]
  },
  {
   "cell_type": "code",
   "execution_count": 336,
   "id": "f3e10f1c",
   "metadata": {},
   "outputs": [
    {
     "data": {
      "text/plain": [
       "(712, 13)"
      ]
     },
     "execution_count": 336,
     "metadata": {},
     "output_type": "execute_result"
    }
   ],
   "source": [
    "X_train_2.shape"
   ]
  },
  {
   "cell_type": "code",
   "execution_count": 337,
   "id": "94027af2",
   "metadata": {},
   "outputs": [
    {
     "data": {
      "text/plain": [
       "(179, 13)"
      ]
     },
     "execution_count": 337,
     "metadata": {},
     "output_type": "execute_result"
    }
   ],
   "source": [
    "X_test_2.shape"
   ]
  },
  {
   "cell_type": "code",
   "execution_count": 338,
   "id": "9b7ca3e4",
   "metadata": {},
   "outputs": [],
   "source": [
    "model_LR2 = LogisticRegression()"
   ]
  },
  {
   "cell_type": "code",
   "execution_count": 343,
   "id": "a9e65cd6",
   "metadata": {},
   "outputs": [],
   "source": [
    "df_LogReg2 = Eva_Matrix_Base_Class(model_LR2, X_train_2, X_test_2, y_train_2, y_test_2, \"LogReg2\")"
   ]
  },
  {
   "cell_type": "code",
   "execution_count": 344,
   "id": "ae6cd80a",
   "metadata": {},
   "outputs": [
    {
     "data": {
      "text/html": [
       "<div>\n",
       "<style scoped>\n",
       "    .dataframe tbody tr th:only-of-type {\n",
       "        vertical-align: middle;\n",
       "    }\n",
       "\n",
       "    .dataframe tbody tr th {\n",
       "        vertical-align: top;\n",
       "    }\n",
       "\n",
       "    .dataframe thead th {\n",
       "        text-align: right;\n",
       "    }\n",
       "</style>\n",
       "<table border=\"1\" class=\"dataframe\">\n",
       "  <thead>\n",
       "    <tr style=\"text-align: right;\">\n",
       "      <th></th>\n",
       "      <th>LogReg Train</th>\n",
       "      <th>LogReg Test</th>\n",
       "    </tr>\n",
       "  </thead>\n",
       "  <tbody>\n",
       "    <tr>\n",
       "      <th>Accuracy</th>\n",
       "      <td>0.803371</td>\n",
       "      <td>0.810056</td>\n",
       "    </tr>\n",
       "    <tr>\n",
       "      <th>Recall</th>\n",
       "      <td>0.710623</td>\n",
       "      <td>0.681159</td>\n",
       "    </tr>\n",
       "    <tr>\n",
       "      <th>Precision</th>\n",
       "      <td>0.760784</td>\n",
       "      <td>0.796610</td>\n",
       "    </tr>\n",
       "    <tr>\n",
       "      <th>F1</th>\n",
       "      <td>0.763359</td>\n",
       "      <td>0.702290</td>\n",
       "    </tr>\n",
       "  </tbody>\n",
       "</table>\n",
       "</div>"
      ],
      "text/plain": [
       "           LogReg Train   LogReg Test\n",
       "Accuracy        0.803371     0.810056\n",
       "Recall          0.710623     0.681159\n",
       "Precision       0.760784     0.796610\n",
       "F1              0.763359     0.702290"
      ]
     },
     "execution_count": 344,
     "metadata": {},
     "output_type": "execute_result"
    }
   ],
   "source": [
    "df_LogReg2"
   ]
  },
  {
   "cell_type": "code",
   "execution_count": null,
   "id": "567bc1dc",
   "metadata": {},
   "outputs": [],
   "source": []
  },
  {
   "cell_type": "code",
   "execution_count": null,
   "id": "a5f78b0b",
   "metadata": {},
   "outputs": [],
   "source": []
  },
  {
   "cell_type": "code",
   "execution_count": null,
   "id": "9781f67f",
   "metadata": {},
   "outputs": [],
   "source": []
  },
  {
   "cell_type": "code",
   "execution_count": null,
   "id": "58d8c4a3",
   "metadata": {},
   "outputs": [],
   "source": []
  },
  {
   "cell_type": "code",
   "execution_count": null,
   "id": "c84f5ca5",
   "metadata": {},
   "outputs": [],
   "source": []
  },
  {
   "cell_type": "code",
   "execution_count": null,
   "id": "96e04d90",
   "metadata": {},
   "outputs": [],
   "source": []
  },
  {
   "cell_type": "code",
   "execution_count": null,
   "id": "50240279",
   "metadata": {},
   "outputs": [],
   "source": []
  },
  {
   "cell_type": "code",
   "execution_count": null,
   "id": "c5be23e3",
   "metadata": {},
   "outputs": [],
   "source": []
  },
  {
   "cell_type": "code",
   "execution_count": null,
   "id": "445bdd0d",
   "metadata": {},
   "outputs": [],
   "source": []
  },
  {
   "cell_type": "code",
   "execution_count": 227,
   "id": "3022eeb2",
   "metadata": {},
   "outputs": [],
   "source": [
    "## 2. Melalui Model Tuning dan ganti Algoritma"
   ]
  },
  {
   "cell_type": "code",
   "execution_count": 228,
   "id": "8f686205",
   "metadata": {},
   "outputs": [],
   "source": [
    "## 2.1 Tuning"
   ]
  },
  {
   "cell_type": "code",
   "execution_count": 229,
   "id": "6fa589e4",
   "metadata": {},
   "outputs": [],
   "source": [
    "## Penalty = l2 = Ridge"
   ]
  },
  {
   "cell_type": "code",
   "execution_count": 230,
   "id": "b852e57c",
   "metadata": {},
   "outputs": [],
   "source": [
    "param_C = np.arange(0.01,5,0.01)"
   ]
  },
  {
   "cell_type": "markdown",
   "id": "c2322d83",
   "metadata": {},
   "source": [
    "###### Notes :\n",
    "- https://scikit-learn.org/stable/modules/generated/sklearn.linear_model.LogisticRegression.html\n",
    "- Aturan Penalty :\n",
    "    'none' : gk ada penalty\n",
    "    'l2' : l2 penalty\n",
    "    'l1' : l1 penalty\n",
    "    'elasticnet' : l1 dan l2 kena penalty\n",
    "- l1_ratio komposisi berapa berapa\n",
    "- elasticnet -> regularizatio didalamya ada ridge+lasso, rationya disebut 'l1_ratio'\n",
    "- r2 khusus regresi"
   ]
  },
  {
   "cell_type": "code",
   "execution_count": 231,
   "id": "e29e8c4b",
   "metadata": {},
   "outputs": [],
   "source": [
    "def Manual_Tune(c, X_train, X_test, y_train, y_test, Model, Reg,slvr): # slvr algoritma yg dipake untk menurunkan solver/menghitung rumus\n",
    "    train_acc = []                                                     # masing2 solver berpengaruh ke regularization, ngasih penalty ke slvr\n",
    "    test_acc = []\n",
    "    if Reg == 'elasticnet' :\n",
    "        rat = 0.5\n",
    "    else :\n",
    "        rat = None\n",
    "    \n",
    "    for i in c:\n",
    "        model_R = Model(C=i, penalty=Reg, solver=slvr, l1_ratio = rat)\n",
    "        model_R.fit(X_train, y_train)\n",
    "        y_pred_tr = model_R.predict(X_train)\n",
    "        Acc_train = accuracy_score(y_train, y_pred_tr)\n",
    "        train_acc.append(Acc_train)\n",
    "        y_pred_ts = model_R.predict(X_test)\n",
    "        Acc_test = accuracy_score(y_test, y_pred_ts)\n",
    "        test_acc.append(Acc_test)\n",
    "    return train_acc, test_acc"
   ]
  },
  {
   "cell_type": "code",
   "execution_count": 232,
   "id": "34d4b0e1",
   "metadata": {},
   "outputs": [],
   "source": [
    "train_LR, test_LR = Manual_Tune(param_C, X_train, X_test, y_train, y_test, LogisticRegression,'l2','lbfgs')"
   ]
  },
  {
   "cell_type": "code",
   "execution_count": 233,
   "id": "7239455e",
   "metadata": {},
   "outputs": [
    {
     "data": {
      "image/png": "[encoded data removed]",
      "text/plain": [
       "<Figure size 576x504 with 1 Axes>"
      ]
     },
     "metadata": {
      "needs_background": "light"
     },
     "output_type": "display_data"
    }
   ],
   "source": [
    "plt.figure(figsize=(8,7))\n",
    "plt.plot(param_C, train_LR, 'r*-')\n",
    "plt.plot(param_C, test_LR, 'b*-')\n",
    "plt.legend(['Train Acc', 'Test Acc'])\n",
    "plt.title('Manual Tuning LogReg + l2')\n",
    "plt.xlabel('Nilai C')\n",
    "plt.ylabel('Nilai Accuracy')\n",
    "plt.show()"
   ]
  },
  {
   "cell_type": "markdown",
   "id": "7fba0971",
   "metadata": {},
   "source": [
    "Artinya : Nilai akurasi paling bagus. Paling mendekati 1"
   ]
  },
  {
   "cell_type": "code",
   "execution_count": 348,
   "id": "08e942b3",
   "metadata": {},
   "outputs": [],
   "source": [
    "train_LR_l1, test_LR_l1 = Manual_Tune(param_C, X_train, X_test, y_train, y_test, LogisticRegression,'l1','liblinear')"
   ]
  },
  {
   "cell_type": "code",
   "execution_count": 349,
   "id": "b97668ef",
   "metadata": {},
   "outputs": [
    {
     "name": "stdout",
     "output_type": "stream",
     "text": [
      "Max Accuracy : 0.8100558659217877\n"
     ]
    }
   ],
   "source": [
    "print('Max Accuracy :', np.max(test_LR_l1))"
   ]
  },
  {
   "cell_type": "code",
   "execution_count": 350,
   "id": "550f82ef",
   "metadata": {},
   "outputs": [],
   "source": [
    "## Penalty (Regularization) = l1 = lasso"
   ]
  },
  {
   "cell_type": "code",
   "execution_count": 351,
   "id": "a6db09f1",
   "metadata": {},
   "outputs": [],
   "source": [
    "train_LR_l1, test_LR_l1 = Manual_Tune(param_C, X_train, X_test, y_train, y_test, LogisticRegression,'l1','liblinear')"
   ]
  },
  {
   "cell_type": "code",
   "execution_count": 352,
   "id": "6b9b8774",
   "metadata": {},
   "outputs": [
    {
     "data": {
      "image/png": "[encoded data removed]",
      "text/plain": [
       "<Figure size 576x504 with 1 Axes>"
      ]
     },
     "metadata": {
      "needs_background": "light"
     },
     "output_type": "display_data"
    }
   ],
   "source": [
    "plt.figure(figsize=(8,7))\n",
    "plt.plot(param_C, train_LR_l1, 'r*-')\n",
    "plt.plot(param_C, test_LR_l1, 'b*-')\n",
    "plt.legend(['Train Acc', 'Test Acc'])\n",
    "plt.title('Manual Tuning LogReg + l1')\n",
    "plt.xlabel('Nilai C')\n",
    "plt.ylabel('Nilai Accuracy')\n",
    "plt.show()"
   ]
  },
  {
   "cell_type": "markdown",
   "id": "cc7bd369",
   "metadata": {},
   "source": [
    "Artinya : Akurasi cumn sampe 0.8 sekian"
   ]
  },
  {
   "cell_type": "code",
   "execution_count": 353,
   "id": "75b7e372",
   "metadata": {},
   "outputs": [
    {
     "name": "stdout",
     "output_type": "stream",
     "text": [
      "Max Accuracy : 0.8212290502793296\n"
     ]
    }
   ],
   "source": [
    "print('Max Accuracy :', np.max(test_LR))"
   ]
  },
  {
   "cell_type": "code",
   "execution_count": 354,
   "id": "d1e40f40",
   "metadata": {},
   "outputs": [],
   "source": [
    "## (Regularization) - ElasticNet"
   ]
  },
  {
   "cell_type": "code",
   "execution_count": 355,
   "id": "68972e80",
   "metadata": {},
   "outputs": [],
   "source": [
    "train_LR_enet, test_LR_enet = Manual_Tune(param_C, X_train, X_test, \n",
    "                                          y_train, y_test, LogisticRegression,'elasticnet','saga')"
   ]
  },
  {
   "cell_type": "code",
   "execution_count": 356,
   "id": "17668c80",
   "metadata": {},
   "outputs": [
    {
     "data": {
      "image/png": "[encoded data removed]",
      "text/plain": [
       "<Figure size 576x504 with 1 Axes>"
      ]
     },
     "metadata": {
      "needs_background": "light"
     },
     "output_type": "display_data"
    }
   ],
   "source": [
    "plt.figure(figsize=(8,7))\n",
    "plt.plot(param_C, train_LR_enet, 'r*-')\n",
    "plt.plot(param_C, test_LR_enet, 'b*-')\n",
    "plt.legend(['Train Acc', 'Test Acc'])\n",
    "plt.title('Manual Tuning LogReg + Enet')\n",
    "plt.xlabel('Nilai C')\n",
    "plt.ylabel('Nilai Accuracy')\n",
    "plt.show()"
   ]
  },
  {
   "cell_type": "code",
   "execution_count": 357,
   "id": "39587b88",
   "metadata": {},
   "outputs": [
    {
     "name": "stdout",
     "output_type": "stream",
     "text": [
      "Max Accuracy : 0.7988826815642458\n"
     ]
    }
   ],
   "source": [
    "print('Max Accuracy :', np.max(test_LR_enet))"
   ]
  },
  {
   "cell_type": "code",
   "execution_count": 358,
   "id": "507626d0",
   "metadata": {},
   "outputs": [],
   "source": [
    "## Fine Tuning"
   ]
  },
  {
   "cell_type": "code",
   "execution_count": 359,
   "id": "ac55f416",
   "metadata": {},
   "outputs": [],
   "source": [
    "param_C_2 = np.arange(0.001,1,0.001)\n",
    "# kita cek dibagian 0-1 lebih teliti, karena dirange tsb mengalami fluktuasi"
   ]
  },
  {
   "cell_type": "code",
   "execution_count": 360,
   "id": "5479ecc9",
   "metadata": {},
   "outputs": [],
   "source": [
    "train_LR_2, test_LR_2 = Manual_Tune(param_C_2, X_train, X_test, y_train, y_test, LogisticRegression,'l2','lbfgs')"
   ]
  },
  {
   "cell_type": "code",
   "execution_count": 361,
   "id": "d2de3b1e",
   "metadata": {},
   "outputs": [
    {
     "data": {
      "image/png": "[encoded data removed]",
      "text/plain": [
       "<Figure size 576x504 with 1 Axes>"
      ]
     },
     "metadata": {
      "needs_background": "light"
     },
     "output_type": "display_data"
    }
   ],
   "source": [
    "plt.figure(figsize=(8,7))\n",
    "plt.plot(param_C_2, train_LR_2, 'r*-')\n",
    "plt.plot(param_C_2, test_LR_2, 'b*-')\n",
    "plt.legend(['Train Acc', 'Test Acc'])\n",
    "plt.title('Manual Tuning LogReg + l2')\n",
    "plt.xlabel('Nilai C')\n",
    "plt.ylabel('Nilai Accuracy')\n",
    "plt.show()"
   ]
  },
  {
   "cell_type": "code",
   "execution_count": 362,
   "id": "d5121a97",
   "metadata": {},
   "outputs": [
    {
     "name": "stdout",
     "output_type": "stream",
     "text": [
      "Max Accuracy : 0.8212290502793296\n",
      "C terbaik : 0.051000000000000004\n"
     ]
    }
   ],
   "source": [
    "print('Max Accuracy :', np.max(test_LR_2))\n",
    "print('C terbaik :',param_C_2[np.argmax(test_LR_2)])\n",
    "best_C = param_C_2[np.argmax(test_LR_2)]"
   ]
  },
  {
   "cell_type": "code",
   "execution_count": 363,
   "id": "98ce3576",
   "metadata": {},
   "outputs": [],
   "source": [
    "### Tuning 2"
   ]
  },
  {
   "cell_type": "code",
   "execution_count": 364,
   "id": "fea7daea",
   "metadata": {},
   "outputs": [],
   "source": [
    "train_LR_3, test_LR_3 = Manual_Tune(param_C_2, X_train_2, X_test_2, y_train_2, y_test_2, LogisticRegression, 'l2', 'lbfgs')"
   ]
  },
  {
   "cell_type": "code",
   "execution_count": 365,
   "id": "ae557d1f",
   "metadata": {},
   "outputs": [
    {
     "data": {
      "image/png": "[encoded data removed]",
      "text/plain": [
       "<Figure size 576x504 with 1 Axes>"
      ]
     },
     "metadata": {
      "needs_background": "light"
     },
     "output_type": "display_data"
    }
   ],
   "source": [
    "plt.figure(figsize=(8,7))\n",
    "plt.plot(param_C_2, train_LR_3, 'r*-')\n",
    "plt.plot(param_C_2, test_LR_3, 'b*-')\n",
    "plt.legend(['Train Acc', 'Test Acc'])\n",
    "plt.title(\"Manual Tuning LogReg + l2\")\n",
    "plt.xlabel(\"Nilai C\")\n",
    "plt.ylabel(\"Nilai Accuracy\")\n",
    "plt.show()"
   ]
  },
  {
   "cell_type": "code",
   "execution_count": 366,
   "id": "7d2f06f4",
   "metadata": {},
   "outputs": [
    {
     "name": "stdout",
     "output_type": "stream",
     "text": [
      "Max Accuracy :  0.7877094972067039\n"
     ]
    }
   ],
   "source": [
    "print('Max Accuracy : ', np.max(test_LR_3))"
   ]
  },
  {
   "cell_type": "code",
   "execution_count": 367,
   "id": "1cf5bd28",
   "metadata": {},
   "outputs": [
    {
     "data": {
      "text/plain": [
       "LogisticRegression(C=0.051000000000000004)"
      ]
     },
     "execution_count": 367,
     "metadata": {},
     "output_type": "execute_result"
    }
   ],
   "source": [
    "LR_Tuned = LogisticRegression(C=best_C)\n",
    "LR_Tuned.fit(X_train, y_train)"
   ]
  },
  {
   "cell_type": "code",
   "execution_count": 368,
   "id": "dad92434",
   "metadata": {},
   "outputs": [],
   "source": [
    "## Confusion Matrix"
   ]
  },
  {
   "cell_type": "code",
   "execution_count": 369,
   "id": "7f9d44ae",
   "metadata": {},
   "outputs": [],
   "source": [
    "from sklearn.metrics import confusion_matrix, classification_report"
   ]
  },
  {
   "cell_type": "code",
   "execution_count": 370,
   "id": "a87d1c5d",
   "metadata": {},
   "outputs": [],
   "source": [
    "y_Log = LR_Tuned.predict(X_train)"
   ]
  },
  {
   "cell_type": "code",
   "execution_count": 371,
   "id": "be91f733",
   "metadata": {},
   "outputs": [
    {
     "name": "stdout",
     "output_type": "stream",
     "text": [
      "              precision    recall  f1-score   support\n",
      "\n",
      "         0.0       0.81      0.91      0.85       439\n",
      "         1.0       0.81      0.66      0.73       273\n",
      "\n",
      "    accuracy                           0.81       712\n",
      "   macro avg       0.81      0.78      0.79       712\n",
      "weighted avg       0.81      0.81      0.81       712\n",
      "\n"
     ]
    }
   ],
   "source": [
    "print(classification_report(y_train, y_Log))"
   ]
  },
  {
   "cell_type": "markdown",
   "id": "46cdbc4e",
   "metadata": {},
   "source": [
    "- 0 mokat\n",
    "- 1 alive\n",
    "- support -> jumlah\n",
    "- macro avg rata-rata dari diatasnya\n",
    "- weighted avg bc/ad"
   ]
  },
  {
   "cell_type": "code",
   "execution_count": 372,
   "id": "ebfdd971",
   "metadata": {},
   "outputs": [],
   "source": [
    "## Makin tinggi recall, makin kecil precision.\n",
    "\n",
    "## Diagonal searah, horizontal dan vertikal terbalik."
   ]
  },
  {
   "cell_type": "code",
   "execution_count": 373,
   "id": "11352587",
   "metadata": {},
   "outputs": [
    {
     "data": {
      "text/plain": [
       "array([[179,  94],\n",
       "       [ 41, 398]], dtype=int64)"
      ]
     },
     "execution_count": 373,
     "metadata": {},
     "output_type": "execute_result"
    }
   ],
   "source": [
    "cm_train = confusion_matrix(y_train, y_Log, labels=[1, 0])\n",
    "cm_train"
   ]
  },
  {
   "cell_type": "code",
   "execution_count": 374,
   "id": "a9e5411e",
   "metadata": {},
   "outputs": [
    {
     "data": {
      "text/html": [
       "<div>\n",
       "<style scoped>\n",
       "    .dataframe tbody tr th:only-of-type {\n",
       "        vertical-align: middle;\n",
       "    }\n",
       "\n",
       "    .dataframe tbody tr th {\n",
       "        vertical-align: top;\n",
       "    }\n",
       "\n",
       "    .dataframe thead th {\n",
       "        text-align: right;\n",
       "    }\n",
       "</style>\n",
       "<table border=\"1\" class=\"dataframe\">\n",
       "  <thead>\n",
       "    <tr style=\"text-align: right;\">\n",
       "      <th></th>\n",
       "      <th>Pred 1</th>\n",
       "      <th>Pred 0</th>\n",
       "    </tr>\n",
       "  </thead>\n",
       "  <tbody>\n",
       "    <tr>\n",
       "      <th>Akt 1</th>\n",
       "      <td>179</td>\n",
       "      <td>94</td>\n",
       "    </tr>\n",
       "    <tr>\n",
       "      <th>Akt 0</th>\n",
       "      <td>41</td>\n",
       "      <td>398</td>\n",
       "    </tr>\n",
       "  </tbody>\n",
       "</table>\n",
       "</div>"
      ],
      "text/plain": [
       "       Pred 1  Pred 0\n",
       "Akt 1     179      94\n",
       "Akt 0      41     398"
      ]
     },
     "execution_count": 374,
     "metadata": {},
     "output_type": "execute_result"
    }
   ],
   "source": [
    "df_train = pd.DataFrame(data = cm_train, columns=['Pred 1', 'Pred 0'], index=['Akt 1', 'Akt 0'])\n",
    "df_train"
   ]
  },
  {
   "cell_type": "code",
   "execution_count": 375,
   "id": "9dd49d75",
   "metadata": {},
   "outputs": [
    {
     "data": {
      "image/png": "[encoded data removed]",
      "text/plain": [
       "<Figure size 720x720 with 1 Axes>"
      ]
     },
     "metadata": {
      "needs_background": "light"
     },
     "output_type": "display_data"
    }
   ],
   "source": [
    "plt.figure(figsize=(10, 10))\n",
    "sns.heatmap(df_train, annot=True, cbar=False)\n",
    "plt.show()"
   ]
  },
  {
   "cell_type": "code",
   "execution_count": 376,
   "id": "19b316ce",
   "metadata": {},
   "outputs": [],
   "source": [
    "## Test Set"
   ]
  },
  {
   "cell_type": "code",
   "execution_count": 377,
   "id": "6b175000",
   "metadata": {},
   "outputs": [],
   "source": [
    "y_Log_test = LR_Tuned.predict(X_test)"
   ]
  },
  {
   "cell_type": "code",
   "execution_count": 378,
   "id": "e2740463",
   "metadata": {},
   "outputs": [
    {
     "name": "stdout",
     "output_type": "stream",
     "text": [
      "              precision    recall  f1-score   support\n",
      "\n",
      "         0.0       0.80      0.94      0.87       110\n",
      "         1.0       0.86      0.64      0.73        69\n",
      "\n",
      "    accuracy                           0.82       179\n",
      "   macro avg       0.83      0.79      0.80       179\n",
      "weighted avg       0.83      0.82      0.81       179\n",
      "\n"
     ]
    }
   ],
   "source": [
    "print(classification_report(y_test, y_Log_test))"
   ]
  },
  {
   "cell_type": "code",
   "execution_count": 379,
   "id": "c44173b8",
   "metadata": {},
   "outputs": [
    {
     "data": {
      "text/plain": [
       "array([[ 44,  25],\n",
       "       [  7, 103]], dtype=int64)"
      ]
     },
     "execution_count": 379,
     "metadata": {},
     "output_type": "execute_result"
    }
   ],
   "source": [
    "cm_test = confusion_matrix(y_test, y_Log_test, labels=[1, 0])\n",
    "cm_test"
   ]
  },
  {
   "cell_type": "code",
   "execution_count": 380,
   "id": "52311a75",
   "metadata": {},
   "outputs": [
    {
     "data": {
      "text/html": [
       "<div>\n",
       "<style scoped>\n",
       "    .dataframe tbody tr th:only-of-type {\n",
       "        vertical-align: middle;\n",
       "    }\n",
       "\n",
       "    .dataframe tbody tr th {\n",
       "        vertical-align: top;\n",
       "    }\n",
       "\n",
       "    .dataframe thead th {\n",
       "        text-align: right;\n",
       "    }\n",
       "</style>\n",
       "<table border=\"1\" class=\"dataframe\">\n",
       "  <thead>\n",
       "    <tr style=\"text-align: right;\">\n",
       "      <th></th>\n",
       "      <th>Pred 1</th>\n",
       "      <th>Pred 0</th>\n",
       "    </tr>\n",
       "  </thead>\n",
       "  <tbody>\n",
       "    <tr>\n",
       "      <th>Akt 1</th>\n",
       "      <td>44</td>\n",
       "      <td>25</td>\n",
       "    </tr>\n",
       "    <tr>\n",
       "      <th>Akt 0</th>\n",
       "      <td>7</td>\n",
       "      <td>103</td>\n",
       "    </tr>\n",
       "  </tbody>\n",
       "</table>\n",
       "</div>"
      ],
      "text/plain": [
       "       Pred 1  Pred 0\n",
       "Akt 1      44      25\n",
       "Akt 0       7     103"
      ]
     },
     "execution_count": 380,
     "metadata": {},
     "output_type": "execute_result"
    }
   ],
   "source": [
    "df_test = pd.DataFrame(data = cm_test, columns=['Pred 1', 'Pred 0'], index=['Akt 1', 'Akt 0'])\n",
    "df_test"
   ]
  },
  {
   "cell_type": "code",
   "execution_count": 381,
   "id": "432e2e2d",
   "metadata": {},
   "outputs": [
    {
     "data": {
      "image/png": "[encoded data removed]",
      "text/plain": [
       "<Figure size 720x720 with 1 Axes>"
      ]
     },
     "metadata": {
      "needs_background": "light"
     },
     "output_type": "display_data"
    }
   ],
   "source": [
    "plt.figure(figsize=(10, 10))\n",
    "sns.heatmap(df_test, annot=True, cbar=False)\n",
    "plt.show()"
   ]
  },
  {
   "cell_type": "code",
   "execution_count": null,
   "id": "43eec15c",
   "metadata": {},
   "outputs": [],
   "source": []
  },
  {
   "cell_type": "code",
   "execution_count": null,
   "id": "c78f168c",
   "metadata": {},
   "outputs": [],
   "source": []
  },
  {
   "cell_type": "code",
   "execution_count": null,
   "id": "53ed861f",
   "metadata": {},
   "outputs": [],
   "source": []
  },
  {
   "cell_type": "code",
   "execution_count": null,
   "id": "1ed44912",
   "metadata": {},
   "outputs": [],
   "source": []
  }
 ],
 "metadata": {
  "kernelspec": {
   "display_name": "Python 3 (ipykernel)",
   "language": "python",
   "name": "python3"
  },
  "language_info": {
   "codemirror_mode": {
    "name": "ipython",
    "version": 3
   },
   "file_extension": ".py",
   "mimetype": "text/x-python",
   "name": "python",
   "nbconvert_exporter": "python",
   "pygments_lexer": "ipython3",
   "version": "3.9.7"
  }
 },
 "nbformat": 4,
 "nbformat_minor": 5
}
